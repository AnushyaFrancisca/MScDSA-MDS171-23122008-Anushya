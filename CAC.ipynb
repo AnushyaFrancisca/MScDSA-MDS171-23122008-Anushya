{
 "cells": [
  {
   "cell_type": "code",
   "execution_count": 17,
   "metadata": {},
   "outputs": [],
   "source": [
    "from colorama import Fore #colorama is a python library that provides the facility to add coloured text output to terminals"
   ]
  },
  {
   "cell_type": "code",
   "execution_count": 2,
   "metadata": {},
   "outputs": [
    {
     "name": "stdout",
     "output_type": "stream",
     "text": [
      "Collecting prettytable\n",
      "  Downloading prettytable-3.9.0-py3-none-any.whl (27 kB)\n",
      "Requirement already satisfied: wcwidth in c:\\users\\asus\\anaconda3\\lib\\site-packages (from prettytable) (0.2.5)\n",
      "Installing collected packages: prettytable\n",
      "Successfully installed prettytable-3.9.0\n",
      "Note: you may need to restart the kernel to use updated packages.\n",
      "+------+---------+-------------------------------------------------------------------------------+-------------------------------------------------------+\n",
      "| S.No |   Bus   |                                     Route                                     |                        Timings                        |\n",
      "+------+---------+-------------------------------------------------------------------------------+-------------------------------------------------------+\n",
      "|  1.  | Bus 301 | Thicket Street - Portofino - Hill View - Clubview - MBA Block - Central Block |  7:30AM - 7:45AM - 8:05AM - 8:15AM - 8:22AM - 8:25AM  |\n",
      "|  2.  | Bus 302 | Thicket Street - Portofino - Hill View - Clubview - MBA Block - Central Block | 12:30PM - 12:45PM - 1:05PM - 1:15PM - 1:22PM - 1:25PM |\n",
      "|  3.  | Bus 303 | Thicket Street - Portofino - Hill View - Clubview - MBA Block - Central Block |  3:40PM - 3:50PM - 4:05PM - 4:15PM - 4:20PM - 4:23PM  |\n",
      "|  4.  | Bus 304 | Thicket Street - Portofino - Hill View - Clubview - MBA Block - Central Block |  7:30PM - 7:45PM - 8:05PM - 8:15PM - 8:22PM - 8:25PM  |\n",
      "+------+---------+-------------------------------------------------------------------------------+-------------------------------------------------------+\n"
     ]
    }
   ],
   "source": [
    "%pip install prettytable\n",
    "from prettytable import PrettyTable\n",
    " \n",
    "def routes():\n",
    "    t = PrettyTable(['S.No', 'Bus', 'Route', 'Timings']) #These 4 are the columns of the tables\n",
    "    #To insert rows:\n",
    "    t.add_row(['1.','Bus 301', 'Thicket Street - Portofino - Hill View - Clubview - MBA Block - Central Block', '7:30AM - 7:45AM - 8:05AM - 8:15AM - 8:22AM - 8:25AM'])\n",
    "    t.add_row(['2.','Bus 302', 'Thicket Street - Portofino - Hill View - Clubview - MBA Block - Central Block', '12:30PM - 12:45PM - 1:05PM - 1:15PM - 1:22PM - 1:25PM'])\n",
    "    t.add_row(['3.','Bus 303', 'Thicket Street - Portofino - Hill View - Clubview - MBA Block - Central Block', '3:40PM - 3:50PM - 4:05PM - 4:15PM - 4:20PM - 4:23PM'])\n",
    "    t.add_row(['4.','Bus 304', 'Thicket Street - Portofino - Hill View - Clubview - MBA Block - Central Block', '7:30PM - 7:45PM - 8:05PM - 8:15PM - 8:22PM - 8:25PM'])\n",
    "    print(t)\n",
    "\n"
   ]
  },
  {
   "cell_type": "code",
   "execution_count": 23,
   "metadata": {},
   "outputs": [],
   "source": [
    "#available seats\n",
    "as1=[1, 2, 3, 4, 5, 6, 7, 8, 9, 10, 11, 12, 13, 14, 15, 16, 17, 18, 19, 20, 21, 22, 23, 24, 25, 26, 27, 28, 29, 30]\n",
    "as2=[1, 2, 3, 4, 5, 6, 7, 8, 9, 10, 11, 12, 13, 14, 15, 16, 17, 18, 19, 20, 21, 22, 23, 24, 25, 26, 27, 28, 29, 30]\n",
    "as3=[1, 2, 3, 4, 5, 6, 7, 8, 9, 10, 11, 12, 13, 14, 15, 16, 17, 18, 19, 20, 21, 22, 23, 24, 25, 26, 27, 28, 29, 30]\n",
    "as4=[1, 2, 3, 4, 5, 6, 7, 8, 9, 10, 11, 12, 13, 14, 15, 16, 17, 18, 19, 20, 21, 22, 23, 24, 25, 26, 27, 28, 29, 30]\n",
    "bs1,bs2,bs3,bs4=[],[],[],[] #booked seats"
   ]
  },
  {
   "cell_type": "code",
   "execution_count": 24,
   "metadata": {},
   "outputs": [],
   "source": [
    "def view_bus1():\n",
    "    columns=2 #used to specify that the list is to be taken in pairs of two\n",
    "    for first, second in zip(  #zip is used to comnine both the lists created below\n",
    "        as1[::columns] , as1[1::columns]  #[::columns] creates a new list containing 1st, 3rd... elements, [1::columns] creates a new list containing 2nd, 4th... elements\n",
    "    ):\n",
    "        print(f'{Fore.GREEN}{first: <10}{Fore.GREEN}{second}') \n",
    "        \n",
    "def view_bus2():\n",
    "    columns=2\n",
    "    for first, second in zip(\n",
    "        as2[::columns], as2[1::columns]\n",
    "    ):\n",
    "        print(f'{Fore.GREEN}{first: <10}{Fore.GREEN}{second}')\n",
    "\n",
    "def view_bus3():\n",
    "    columns=2\n",
    "    for first, second in zip(\n",
    "        as3[::columns], as3[1::columns]\n",
    "    ):\n",
    "        print(f'{Fore.GREEN}{first: <10}{Fore.GREEN}{second}')\n",
    "\n",
    "def view_bus4():\n",
    "    columns=2\n",
    "    for first, second in zip(\n",
    "        as4[::columns], as4[1::columns]\n",
    "    ):\n",
    "        print(f'{Fore.GREEN}{first: <10}{Fore.GREEN}{second}')"
   ]
  },
  {
   "cell_type": "code",
   "execution_count": 39,
   "metadata": {},
   "outputs": [
    {
     "name": "stdout",
     "output_type": "stream",
     "text": [
      "The bus details of the option you have chosen is listed below: \n",
      "Bus No\t: 301\n",
      "Route\t: Thicket Street - Portofino - Hill View - Clubview - MBA Block - Central Block\n",
      "Timings\t: 7:30AM - 7:45AM - 8:05AM - 8:15AM - 8:22AM - 8:25AM\n",
      "---------------------------------------------------------------------------------------\n",
      "The available seats are displayed below: \n",
      "\u001b[32m1         \u001b[32m2\n",
      "\u001b[32m3         \u001b[32m4\n",
      "\u001b[32m5         \u001b[32m6\n",
      "\u001b[32m7         \u001b[32m8\n",
      "\u001b[32m9         \u001b[32m10\n",
      "\u001b[32m11        \u001b[32m12\n",
      "\u001b[32m13        \u001b[32m14\n",
      "\u001b[32m15        \u001b[32m16\n",
      "\u001b[32m17        \u001b[32m18\n",
      "\u001b[32m19        \u001b[32m20\n",
      "\u001b[32m21        \u001b[32m22\n",
      "\u001b[32m23        \u001b[32m24\n",
      "\u001b[32m25        \u001b[32m26\n",
      "\u001b[32m27        \u001b[32m28\n",
      "\u001b[32m29        \u001b[32m30\n"
     ]
    }
   ],
   "source": [
    "condition=input(\"Enter the serial no. of the bus you would like to accomodate: \")\n",
    "if condition=='1':\n",
    "    print(\"The bus details of the option you have chosen is listed below: \")\n",
    "    print(\"Bus No\\t: 301\")\n",
    "    print(\"Route\\t: Thicket Street - Portofino - Hill View - Clubview - MBA Block - Central Block\")\n",
    "    print(\"Timings\\t: 7:30AM - 7:45AM - 8:05AM - 8:15AM - 8:22AM - 8:25AM\")\n",
    "    booking=input(\"Enter 'Y' if you would like to view the available seats else enter 'N \\n\").upper()\n",
    "    print(\"-\"*87)\n",
    "    if booking=='Y':\n",
    "        print(\"The available seats are displayed below: \")\n",
    "        view_bus1()\n",
    "        \n",
    "        \n",
    "   \n",
    "\n",
    "        "
   ]
  },
  {
   "cell_type": "code",
   "execution_count": null,
   "metadata": {},
   "outputs": [],
   "source": []
  }
 ],
 "metadata": {
  "kernelspec": {
   "display_name": "base",
   "language": "python",
   "name": "python3"
  },
  "language_info": {
   "codemirror_mode": {
    "name": "ipython",
    "version": 3
   },
   "file_extension": ".py",
   "mimetype": "text/x-python",
   "name": "python",
   "nbconvert_exporter": "python",
   "pygments_lexer": "ipython3",
   "version": "3.9.13"
  },
  "orig_nbformat": 4
 },
 "nbformat": 4,
 "nbformat_minor": 2
}
