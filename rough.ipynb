{
 "cells": [
  {
   "cell_type": "code",
   "execution_count": 35,
   "metadata": {},
   "outputs": [],
   "source": [
    "villagers=[761, 123, 585, 275, 194, 840, 999, 622, 763, 40, 825, 687, 402, 338, 611, 987, 739, 95, 819, 568, 320, 126, 688, 948, 514, 223, 751, 379, 857, 767, 492, 162, 437, 934, 430, 343, 725, 511, 580, 678, 708, 823, 346, 179, 786, 663, 195, 890, 267, 502, 214, 300, 786, 961, 235, 559, 992, 919, 948, 318, 57, 787, 653, 317, 305, 172, 966, 182, 970, 17, 89, 624, 629, 595, 485, 752, 984, 978, 460, 124, 321, 256, 614, 852, 811, 561, 127, 207, 406, 615, 888, 391, 691, 470, 911, 401, 137, 600, 478, 682]"
   ]
  },
  {
   "cell_type": "code",
   "execution_count": 11,
   "metadata": {},
   "outputs": [
    {
     "data": {
      "text/plain": [
       "[17,\n",
       " 40,\n",
       " 57,\n",
       " 89,\n",
       " 95,\n",
       " 123,\n",
       " 124,\n",
       " 126,\n",
       " 127,\n",
       " 137,\n",
       " 162,\n",
       " 172,\n",
       " 179,\n",
       " 182,\n",
       " 194,\n",
       " 195,\n",
       " 207,\n",
       " 214,\n",
       " 223,\n",
       " 235,\n",
       " 256,\n",
       " 267,\n",
       " 275,\n",
       " 300,\n",
       " 305,\n",
       " 317,\n",
       " 318,\n",
       " 320,\n",
       " 321,\n",
       " 338,\n",
       " 343,\n",
       " 346,\n",
       " 379,\n",
       " 391,\n",
       " 401,\n",
       " 402,\n",
       " 406,\n",
       " 430,\n",
       " 437,\n",
       " 460,\n",
       " 470,\n",
       " 478,\n",
       " 485,\n",
       " 492,\n",
       " 502,\n",
       " 511,\n",
       " 514,\n",
       " 559,\n",
       " 561,\n",
       " 568,\n",
       " 580,\n",
       " 585,\n",
       " 595,\n",
       " 600,\n",
       " 611,\n",
       " 614,\n",
       " 615,\n",
       " 622,\n",
       " 624,\n",
       " 629,\n",
       " 653,\n",
       " 663,\n",
       " 678,\n",
       " 682,\n",
       " 687,\n",
       " 688,\n",
       " 691,\n",
       " 708,\n",
       " 725,\n",
       " 739,\n",
       " 751,\n",
       " 752,\n",
       " 761,\n",
       " 763,\n",
       " 767,\n",
       " 786,\n",
       " 786,\n",
       " 787,\n",
       " 811,\n",
       " 819,\n",
       " 823,\n",
       " 825,\n",
       " 840,\n",
       " 852,\n",
       " 857,\n",
       " 888,\n",
       " 890,\n",
       " 911,\n",
       " 919,\n",
       " 934,\n",
       " 948,\n",
       " 948,\n",
       " 961,\n",
       " 966,\n",
       " 970,\n",
       " 978,\n",
       " 984,\n",
       " 987,\n",
       " 992,\n",
       " 999]"
      ]
     },
     "execution_count": 11,
     "metadata": {},
     "output_type": "execute_result"
    }
   ],
   "source": [
    "villagers.sort()\n",
    "villagers"
   ]
  },
  {
   "cell_type": "code",
   "execution_count": 36,
   "metadata": {},
   "outputs": [
    {
     "ename": "IndentationError",
     "evalue": "unexpected indent (814569841.py, line 4)",
     "output_type": "error",
     "traceback": [
      "\u001b[1;36m  File \u001b[1;32m\"C:\\Users\\Asus\\AppData\\Local\\Temp\\ipykernel_14000\\814569841.py\"\u001b[1;36m, line \u001b[1;32m4\u001b[0m\n\u001b[1;33m    for i in range(len(villagers)):\u001b[0m\n\u001b[1;37m    ^\u001b[0m\n\u001b[1;31mIndentationError\u001b[0m\u001b[1;31m:\u001b[0m unexpected indent\n"
     ]
    }
   ],
   "source": [
    "minimun=villagers[0]\n",
    "newlist=[]\n",
    "for j in range(len(villagers)):\n",
    "    for i in range(len(villagers)):\n",
    "        if(minimum<villagers[i]):\n",
    "            minimum=villagers[0]\n",
    "        else:\n",
    "            minimum=villagers[i]\n",
    "    print()\n",
    "    newlist.append(minimum)\n",
    "    villagers.remove(minimum)\n",
    "\n",
    "\n"
   ]
  },
  {
   "cell_type": "markdown",
   "metadata": {},
   "source": [
    "Psuedocode"
   ]
  },
  {
   "cell_type": "markdown",
   "metadata": {},
   "source": [
    "DISPLAY, INPUT, OUTPUT, NUMBER, IF ELSE, FOR DO, WHILE DO, BEGIN, END."
   ]
  },
  {
   "cell_type": "markdown",
   "metadata": {},
   "source": [
    "APPS:\n",
    "\n",
    "DBMS(Database Management System): is a software used to store, retrive data using queries.\n",
    "\n",
    "DSA(Data structure and algorithms):\n",
    "\n",
    "Datasets: A collection of data that is stored in tabular form is known as dataset."
   ]
  },
  {
   "cell_type": "markdown",
   "metadata": {},
   "source": [
    "Any three names of databases:\n",
    "\n",
    "MongoDB\n",
    "\n",
    "MySQL\n",
    "\n",
    "NoSQL\n",
    "\n",
    "Oracle\n",
    "\n",
    "Cassandra"
   ]
  },
  {
   "cell_type": "code",
   "execution_count": 3,
   "metadata": {},
   "outputs": [
    {
     "name": "stdout",
     "output_type": "stream",
     "text": [
      "24\n"
     ]
    }
   ],
   "source": [
    "a=int(input(\"Enter the first number\"))\n",
    "b=int(input(\"Enter the first number\"))\n",
    "c=int(input(\"Enter the first number\"))\n",
    "d=a*b*c\n",
    "print(d)"
   ]
  },
  {
   "cell_type": "code",
   "execution_count": 1,
   "metadata": {},
   "outputs": [],
   "source": [
    "villagers=[761, 123, 585, 275, 194, 840, 999, 622, 763, 40, 825, 687, 402, 338, 611, 987, 739, 95, 819, 568, 320, 126, 688, 948, 514, 223, 751, 379, 857, 767, 492, 162, 437, 934, 430, 343, 725, 511, 580, 678, 708, 823, 346, 179, 786, 663, 195, 890, 267, 502, 214, 300, 786, 961, 235, 559, 992, 919, 948, 318, 57, 787, 653, 317, 305, 172, 966, 182, 970, 17, 89, 624, 629, 595, 485, 752, 984, 978, 460, 124, 321, 256, 614, 852, 811, 561, 127, 207, 406, 615, 888, 391, 691, 470, 911, 401, 137, 600, 478, 682]"
   ]
  },
  {
   "cell_type": "code",
   "execution_count": 4,
   "metadata": {},
   "outputs": [
    {
     "ename": "NameError",
     "evalue": "name 'length' is not defined",
     "output_type": "error",
     "traceback": [
      "\u001b[1;31m---------------------------------------------------------------------------\u001b[0m",
      "\u001b[1;31mNameError\u001b[0m                                 Traceback (most recent call last)",
      "\u001b[1;32m~\\AppData\\Local\\Temp\\ipykernel_1520\\4268291041.py\u001b[0m in \u001b[0;36m<module>\u001b[1;34m\u001b[0m\n\u001b[0;32m      9\u001b[0m     \u001b[0mprint\u001b[0m\u001b[1;33m(\u001b[0m\u001b[1;34m\"The maximum value using in-built functions is:\"\u001b[0m\u001b[1;33m,\u001b[0m\u001b[0mmax\u001b[0m\u001b[1;33m(\u001b[0m\u001b[0mm\u001b[0m\u001b[1;33m)\u001b[0m\u001b[1;33m)\u001b[0m\u001b[1;33m\u001b[0m\u001b[1;33m\u001b[0m\u001b[0m\n\u001b[0;32m     10\u001b[0m \u001b[1;33m\u001b[0m\u001b[0m\n\u001b[1;32m---> 11\u001b[1;33m \u001b[0mmaximum\u001b[0m\u001b[1;33m(\u001b[0m\u001b[0mvillagers\u001b[0m\u001b[1;33m)\u001b[0m\u001b[1;33m\u001b[0m\u001b[1;33m\u001b[0m\u001b[0m\n\u001b[0m",
      "\u001b[1;32m~\\AppData\\Local\\Temp\\ipykernel_1520\\4268291041.py\u001b[0m in \u001b[0;36mmaximum\u001b[1;34m(m)\u001b[0m\n\u001b[0;32m      1\u001b[0m \u001b[1;32mdef\u001b[0m \u001b[0mmaximum\u001b[0m\u001b[1;33m(\u001b[0m\u001b[0mm\u001b[0m\u001b[1;33m)\u001b[0m\u001b[1;33m:\u001b[0m\u001b[1;33m\u001b[0m\u001b[1;33m\u001b[0m\u001b[0m\n\u001b[0;32m      2\u001b[0m     \u001b[0mmaximum\u001b[0m\u001b[1;33m=\u001b[0m\u001b[0mm\u001b[0m\u001b[1;33m[\u001b[0m\u001b[1;36m0\u001b[0m\u001b[1;33m]\u001b[0m\u001b[1;33m\u001b[0m\u001b[1;33m\u001b[0m\u001b[0m\n\u001b[1;32m----> 3\u001b[1;33m     \u001b[1;32mfor\u001b[0m \u001b[0mi\u001b[0m \u001b[1;32min\u001b[0m \u001b[0mrange\u001b[0m\u001b[1;33m(\u001b[0m\u001b[0mlength\u001b[0m\u001b[1;33m)\u001b[0m\u001b[1;33m:\u001b[0m\u001b[1;33m\u001b[0m\u001b[1;33m\u001b[0m\u001b[0m\n\u001b[0m\u001b[0;32m      4\u001b[0m         \u001b[1;32mif\u001b[0m \u001b[0mmaximum\u001b[0m\u001b[1;33m>\u001b[0m\u001b[0mm\u001b[0m\u001b[1;33m[\u001b[0m\u001b[0mi\u001b[0m\u001b[1;33m]\u001b[0m\u001b[1;33m:\u001b[0m\u001b[1;33m\u001b[0m\u001b[1;33m\u001b[0m\u001b[0m\n\u001b[0;32m      5\u001b[0m             \u001b[1;32mpass\u001b[0m\u001b[1;33m\u001b[0m\u001b[1;33m\u001b[0m\u001b[0m\n",
      "\u001b[1;31mNameError\u001b[0m: name 'length' is not defined"
     ]
    }
   ],
   "source": [
    "def maximum(m):\n",
    "    maximum=m[0]\n",
    "    for i in range(length):\n",
    "        if maximum>m[i]:\n",
    "            pass\n",
    "        else:\n",
    "            maximum=m[i]\n",
    "    print(\"The maximum value is:\", maximum)\n",
    "    print(\"The maximum value using in-built functions is:\",max(m))\n",
    "\n",
    "maximum(villagers)"
   ]
  },
  {
   "cell_type": "code",
   "execution_count": 3,
   "metadata": {},
   "outputs": [
    {
     "name": "stdout",
     "output_type": "stream",
     "text": [
      "Total sum is 54294\n",
      "Length is 100\n",
      "Mean value is total sum/length, that is: 542.94 \n",
      "\n",
      "******************************\n",
      "MINIMUM:\n",
      "The minimum value is: 17\n",
      "The minimum value using in-built functions is: 17\n"
     ]
    }
   ],
   "source": [
    "def functions(n):\n",
    "    sum=0\n",
    "    length=0\n",
    "    for i in range(len(n)):\n",
    "        sum=sum+(n[i])\n",
    "    for i in n:\n",
    "        length=length+1\n",
    "    print(\"Total sum is\", sum)\n",
    "    print(\"Length is\", length)\n",
    "    print(\"Mean value is total sum/length, that is:\", sum/length,\"\\n\") \n",
    "\n",
    "    print(\"*\"*30)\n",
    "    print(\"MINIMUM:\")\n",
    "\n",
    "    minimum=n[0]\n",
    "    for i in range(length):\n",
    "        if minimum<n[i]:\n",
    "            minimum=minimum\n",
    "        else:\n",
    "            minimum=n[i]\n",
    "    print(\"The minimum value is:\", minimum)\n",
    "    print(\"The minimum value using in-built functions is:\",min(n))\n",
    "\n",
    "functions(villagers)\n"
   ]
  },
  {
   "cell_type": "code",
   "execution_count": 5,
   "metadata": {},
   "outputs": [
    {
     "data": {
      "text/plain": [
       "[{'name': 'Anushya',\n",
       "  'reg. no': '9737224',\n",
       "  'phone': '3442453453',\n",
       "  'email': '2efc3'}]"
      ]
     },
     "execution_count": 5,
     "metadata": {},
     "output_type": "execute_result"
    }
   ],
   "source": [
    "newList=[]\n",
    "def storeDetails():\n",
    "    name=input(\"Enter the name of the student.\").strip().title()\n",
    "    reg=input(\"Enter the registration number of the student.\")\n",
    "    phone=input(\"Enter the mobile number of the student.\")\n",
    "    email=input(\"Enter the email id of the student.\")\n",
    "    student={\n",
    "        \"name\":name,\n",
    "        \"reg. no\":reg,\n",
    "        \"phone\":phone,\n",
    "        \"email\":email,\n",
    "    }\n",
    "    newList.append(student)\n",
    "    return newList\n",
    "\n",
    "storeDetails()\n",
    "\n",
    "\n",
    "    "
   ]
  },
  {
   "cell_type": "code",
   "execution_count": 18,
   "metadata": {},
   "outputs": [],
   "source": [
    "hello={\"name\":\"hey\",\"place\":'okay'}"
   ]
  },
  {
   "cell_type": "code",
   "execution_count": 13,
   "metadata": {},
   "outputs": [
    {
     "data": {
      "text/plain": [
       "'hey'"
      ]
     },
     "execution_count": 13,
     "metadata": {},
     "output_type": "execute_result"
    }
   ],
   "source": [
    "hello[\"name\"]"
   ]
  },
  {
   "cell_type": "code",
   "execution_count": 20,
   "metadata": {},
   "outputs": [
    {
     "data": {
      "text/plain": [
       "'hey'"
      ]
     },
     "execution_count": 20,
     "metadata": {},
     "output_type": "execute_result"
    }
   ],
   "source": [
    "hello.pop(\"name\")"
   ]
  },
  {
   "cell_type": "code",
   "execution_count": 21,
   "metadata": {},
   "outputs": [
    {
     "data": {
      "text/plain": [
       "{'place': 'okay'}"
      ]
     },
     "execution_count": 21,
     "metadata": {},
     "output_type": "execute_result"
    }
   ],
   "source": [
    "hello"
   ]
  },
  {
   "cell_type": "code",
   "execution_count": 23,
   "metadata": {},
   "outputs": [
    {
     "data": {
      "text/plain": [
       "'OKAY'"
      ]
     },
     "execution_count": 23,
     "metadata": {},
     "output_type": "execute_result"
    }
   ],
   "source": [
    "x=input(\"\").upper()\n",
    "x"
   ]
  },
  {
   "cell_type": "markdown",
   "metadata": {},
   "source": [
    "NOT WORKING"
   ]
  },
  {
   "cell_type": "code",
   "execution_count": 49,
   "metadata": {},
   "outputs": [
    {
     "name": "stdout",
     "output_type": "stream",
     "text": [
      "[{'Name': 'anushya', 'Mobile No.': 'ansjkd', 'Email ID': 'jskdak'}, {'Name': 'abinaya', 'Mobile No.': 'hdsla', 'Email ID': 'jasndkja'}, {'Name': 'francisca', 'Mobile No.': 'aajksfla', 'Email ID': 'kajd;la'}]\n"
     ]
    }
   ],
   "source": [
    "Contact=[]\n",
    "for i in range(1,4):\n",
    "    name=input(\"Enter the name of the individual.\")\n",
    "    phone=input(\"Enter the contact details of the individual.\")\n",
    "    email=input(\"Enter the Email ID of the individual.\")\n",
    "    contact={\n",
    "        \"Name\":name,\n",
    "        \"Mobile No.\":phone,\n",
    "        \"Email ID\":email\n",
    "    }\n",
    "    Contact.append(contact)\n",
    "print(Contact)"
   ]
  },
  {
   "cell_type": "code",
   "execution_count": 53,
   "metadata": {},
   "outputs": [
    {
     "data": {
      "text/plain": [
       "{'Name': 'anushya', 'Mobile No.': 'ansjkd', 'Email ID': 'jskdak'}"
      ]
     },
     "execution_count": 53,
     "metadata": {},
     "output_type": "execute_result"
    }
   ],
   "source": [
    "Contact[0]"
   ]
  },
  {
   "cell_type": "code",
   "execution_count": 54,
   "metadata": {},
   "outputs": [
    {
     "data": {
      "text/plain": [
       "{'Name': 'abinaya', 'Mobile No.': 'hdsla', 'Email ID': 'jasndkja'}"
      ]
     },
     "execution_count": 54,
     "metadata": {},
     "output_type": "execute_result"
    }
   ],
   "source": [
    "Contact[1]"
   ]
  },
  {
   "cell_type": "code",
   "execution_count": 52,
   "metadata": {},
   "outputs": [
    {
     "name": "stdout",
     "output_type": "stream",
     "text": [
      "anushya\n",
      "abinaya\n",
      "francisca\n"
     ]
    }
   ],
   "source": [
    "for i in Contact:\n",
    "    print(i[\"Name\"])"
   ]
  },
  {
   "cell_type": "code",
   "execution_count": 57,
   "metadata": {},
   "outputs": [
    {
     "ename": "AttributeError",
     "evalue": "'dict' object has no attribute 'remove'",
     "output_type": "error",
     "traceback": [
      "\u001b[1;31m---------------------------------------------------------------------------\u001b[0m",
      "\u001b[1;31mAttributeError\u001b[0m                            Traceback (most recent call last)",
      "\u001b[1;32m~\\AppData\\Local\\Temp\\ipykernel_6708\\4059395546.py\u001b[0m in \u001b[0;36m<module>\u001b[1;34m\u001b[0m\n\u001b[1;32m----> 1\u001b[1;33m \u001b[0mcontact\u001b[0m\u001b[1;33m.\u001b[0m\u001b[0mremove\u001b[0m\u001b[1;33m[\u001b[0m\u001b[1;36m1\u001b[0m\u001b[1;33m]\u001b[0m\u001b[1;33m\u001b[0m\u001b[1;33m\u001b[0m\u001b[0m\n\u001b[0m",
      "\u001b[1;31mAttributeError\u001b[0m: 'dict' object has no attribute 'remove'"
     ]
    }
   ],
   "source": [
    "contact.remove[1]"
   ]
  },
  {
   "cell_type": "code",
   "execution_count": 62,
   "metadata": {},
   "outputs": [
    {
     "name": "stdout",
     "output_type": "stream",
     "text": [
      "The contact has been deleted successfully. Current details available are:  {'Name': 'anushya', 'Mobile No.': 'ansjkd', 'Email ID': 'jskdak'}\n"
     ]
    }
   ],
   "source": [
    "delete=input(\"Enter the name of the individual whose contact you would like to delete.\")\n",
    "flag=False\n",
    "for i in Contact:\n",
    "    if i[\"Name\"]==delete:\n",
    "        flag=True\n",
    "        Contact.remove(i)\n",
    "        print(\"The contact has been deleted successfully. Current details available are: \",i)\n",
    "if flag==False:\n",
    "    print(\"Name not found.\")"
   ]
  },
  {
   "cell_type": "code",
   "execution_count": 6,
   "metadata": {},
   "outputs": [
    {
     "name": "stdout",
     "output_type": "stream",
     "text": [
      "[{'itemnumber': '2', 'quantity': '2'}, {'itemnumber': '2', 'quantity': '4'}]\n"
     ]
    }
   ],
   "source": [
    "ITEM=[]\n",
    "condition=input(\"Enter 'Y' if you want to place an order else enter 'N'.\")\n",
    "while(condition=='Y'):\n",
    "        itemnumber=input(\"Enter the serial number of the dish you would like to order: \")\n",
    "        quantity=input(\"Enter the quantity of the above chosen dish you would like to order: \")\n",
    "        item={\n",
    "            \"itemnumber\":itemnumber,\n",
    "            \"quantity\":quantity\n",
    "        }\n",
    "        ITEM.append(item)\n",
    "        condition=input(\"Enter 'Y' if you want to choose another item else enter 'N'.\")\n",
    "print(ITEM)"
   ]
  },
  {
   "cell_type": "code",
   "execution_count": 9,
   "metadata": {},
   "outputs": [
    {
     "ename": "NameError",
     "evalue": "name 'order' is not defined",
     "output_type": "error",
     "traceback": [
      "\u001b[1;31m---------------------------------------------------------------------------\u001b[0m",
      "\u001b[1;31mNameError\u001b[0m                                 Traceback (most recent call last)",
      "\u001b[1;32m~\\AppData\\Local\\Temp\\ipykernel_8164\\3936375927.py\u001b[0m in \u001b[0;36m<module>\u001b[1;34m\u001b[0m\n\u001b[0;32m     10\u001b[0m     \u001b[0mprint\u001b[0m\u001b[1;33m(\u001b[0m\u001b[0morder\u001b[0m\u001b[1;33m)\u001b[0m\u001b[1;33m\u001b[0m\u001b[1;33m\u001b[0m\u001b[0m\n\u001b[0;32m     11\u001b[0m \u001b[1;33m\u001b[0m\u001b[0m\n\u001b[1;32m---> 12\u001b[1;33m \u001b[0mviewOrder\u001b[0m\u001b[1;33m(\u001b[0m\u001b[1;33m)\u001b[0m\u001b[1;33m\u001b[0m\u001b[1;33m\u001b[0m\u001b[0m\n\u001b[0m",
      "\u001b[1;32m~\\AppData\\Local\\Temp\\ipykernel_8164\\3936375927.py\u001b[0m in \u001b[0;36mviewOrder\u001b[1;34m()\u001b[0m\n\u001b[0;32m      7\u001b[0m \u001b[1;33m\u001b[0m\u001b[0m\n\u001b[0;32m      8\u001b[0m \u001b[1;32mdef\u001b[0m \u001b[0mviewOrder\u001b[0m\u001b[1;33m(\u001b[0m\u001b[1;33m)\u001b[0m\u001b[1;33m:\u001b[0m\u001b[1;33m\u001b[0m\u001b[1;33m\u001b[0m\u001b[0m\n\u001b[1;32m----> 9\u001b[1;33m     \u001b[0mstoreOrder\u001b[0m\u001b[1;33m(\u001b[0m\u001b[0morder\u001b[0m\u001b[1;33m)\u001b[0m\u001b[1;33m\u001b[0m\u001b[1;33m\u001b[0m\u001b[0m\n\u001b[0m\u001b[0;32m     10\u001b[0m     \u001b[0mprint\u001b[0m\u001b[1;33m(\u001b[0m\u001b[0morder\u001b[0m\u001b[1;33m)\u001b[0m\u001b[1;33m\u001b[0m\u001b[1;33m\u001b[0m\u001b[0m\n\u001b[0;32m     11\u001b[0m \u001b[1;33m\u001b[0m\u001b[0m\n",
      "\u001b[1;31mNameError\u001b[0m: name 'order' is not defined"
     ]
    }
   ],
   "source": [
    "def storeOrder(orderid,ITEM):\n",
    "    order={\n",
    "        \"Orderid\":orderid,\n",
    "        \"items\":ITEM\n",
    "    }\n",
    "\n",
    "\n",
    "def viewOrder():\n",
    "    storeOrder(order)\n",
    "    print(order)\n",
    "\n",
    "viewOrder()"
   ]
  },
  {
   "cell_type": "code",
   "execution_count": 11,
   "metadata": {},
   "outputs": [],
   "source": [
    "my_list=[1,2,3]\n",
    "my_list.append(4)"
   ]
  },
  {
   "cell_type": "code",
   "execution_count": 12,
   "metadata": {},
   "outputs": [
    {
     "data": {
      "text/plain": [
       "[1, 2, 3, 4]"
      ]
     },
     "execution_count": 12,
     "metadata": {},
     "output_type": "execute_result"
    }
   ],
   "source": [
    "my_list"
   ]
  },
  {
   "cell_type": "code",
   "execution_count": 14,
   "metadata": {},
   "outputs": [],
   "source": [
    "order=\"hello\"\n",
    "list1=['n','o']\n"
   ]
  },
  {
   "cell_type": "code",
   "execution_count": 15,
   "metadata": {},
   "outputs": [],
   "source": [
    "order=\"\".join(list1)"
   ]
  },
  {
   "cell_type": "code",
   "execution_count": 16,
   "metadata": {},
   "outputs": [
    {
     "data": {
      "text/plain": [
       "'no'"
      ]
     },
     "execution_count": 16,
     "metadata": {},
     "output_type": "execute_result"
    }
   ],
   "source": [
    "order"
   ]
  },
  {
   "cell_type": "code",
   "execution_count": 17,
   "metadata": {},
   "outputs": [],
   "source": [
    "order={\n",
    "        \"Orderid\":2,\n",
    "        \"items\":3\n",
    "    }\n"
   ]
  },
  {
   "cell_type": "code",
   "execution_count": 19,
   "metadata": {},
   "outputs": [
    {
     "name": "stdout",
     "output_type": "stream",
     "text": [
      "3\n"
     ]
    }
   ],
   "source": [
    "for i in order:\n",
    "    if i==\"items\":\n",
    "        print(order[i])"
   ]
  },
  {
   "cell_type": "code",
   "execution_count": 20,
   "metadata": {},
   "outputs": [
    {
     "ename": "ModuleNotFoundError",
     "evalue": "No module named 'termcolor'",
     "output_type": "error",
     "traceback": [
      "\u001b[1;31m---------------------------------------------------------------------------\u001b[0m",
      "\u001b[1;31mModuleNotFoundError\u001b[0m                       Traceback (most recent call last)",
      "\u001b[1;32m~\\AppData\\Local\\Temp\\ipykernel_8164\\823294345.py\u001b[0m in \u001b[0;36m<module>\u001b[1;34m\u001b[0m\n\u001b[0;32m      1\u001b[0m \u001b[1;32mfrom\u001b[0m \u001b[0mcolorama\u001b[0m \u001b[1;32mimport\u001b[0m \u001b[0minit\u001b[0m\u001b[1;33m\u001b[0m\u001b[1;33m\u001b[0m\u001b[0m\n\u001b[1;32m----> 2\u001b[1;33m \u001b[1;32mfrom\u001b[0m \u001b[0mtermcolor\u001b[0m \u001b[1;32mimport\u001b[0m \u001b[0mcolored\u001b[0m\u001b[1;33m\u001b[0m\u001b[1;33m\u001b[0m\u001b[0m\n\u001b[0m\u001b[0;32m      3\u001b[0m \u001b[1;33m\u001b[0m\u001b[0m\n\u001b[0;32m      4\u001b[0m \u001b[0minit\u001b[0m\u001b[1;33m(\u001b[0m\u001b[1;33m)\u001b[0m\u001b[1;33m\u001b[0m\u001b[1;33m\u001b[0m\u001b[0m\n\u001b[0;32m      5\u001b[0m \u001b[1;33m\u001b[0m\u001b[0m\n",
      "\u001b[1;31mModuleNotFoundError\u001b[0m: No module named 'termcolor'"
     ]
    }
   ],
   "source": [
    "from colorama import init\n",
    "from termcolor import colored\n",
    " \n",
    "init()\n",
    " \n",
    "print(colored('Hello, World!', 'green', 'on_red'))"
   ]
  },
  {
   "cell_type": "code",
   "execution_count": 22,
   "metadata": {},
   "outputs": [
    {
     "name": "stdout",
     "output_type": "stream",
     "text": [
      "THis is \u001b[32mcolor\n"
     ]
    }
   ],
   "source": [
    "from colorama import Fore\n",
    "from colorama import Style\n",
    "print(f'THis is {Fore.GREEN}color')"
   ]
  },
  {
   "cell_type": "code",
   "execution_count": 34,
   "metadata": {},
   "outputs": [],
   "source": [
    "#available seats\n",
    "as1=[1, 2, 3, 4, 5, 6, 7, 8, 9, 10, 11, 12, 13, 14, 15, 16, 17, 18, 19, 20, 21, 22, 23, 24, 25, 26, 27, 28, 29, 30]\n",
    "as2=[1, 2, 3, 4, 5, 6, 7, 8, 9, 10, 11, 12, 13, 14, 15, 16, 17, 18, 19, 20, 21, 22, 23, 24, 25, 26, 27, 28, 29, 30]\n",
    "as3=[1, 2, 3, 4, 5, 6, 7, 8, 9, 10, 11, 12, 13, 14, 15, 16, 17, 18, 19, 20, 21, 22, 23, 24, 25, 26, 27, 28, 29, 30]\n",
    "as4=[1, 2, 3, 4, 5, 6, 7, 8, 9, 10, 11, 12, 13, 14, 15, 16, 17, 18, 19, 20, 21, 22, 23, 24, 25, 26, 27, 28, 29, 30]\n",
    "bs1,bs2,bs3,bs4=[],[],[],[] #booked seats"
   ]
  },
  {
   "cell_type": "code",
   "execution_count": 33,
   "metadata": {},
   "outputs": [],
   "source": [
    "def booked(seat_number,as_no):\n",
    "            columns=2 \n",
    "            for first, second in zip(as1[::columns] , as1[1::columns]):\n",
    "                    if first==seat_number:\n",
    "                        print(f'{Fore.RED}{first: <10}{Fore.GREEN}{second}')\n",
    "                    elif second==seat_number:\n",
    "                        print(f'{Fore.GREEN}{first: <10}{Fore.RED}{second}')\n",
    "                    else:\n",
    "                        print(f'{Fore.GREEN}{first: <10}{Fore.GREEN}{second}')\n",
    "    "
   ]
  },
  {
   "cell_type": "code",
   "execution_count": 35,
   "metadata": {},
   "outputs": [
    {
     "name": "stdout",
     "output_type": "stream",
     "text": [
      "\u001b[32m1         \u001b[32m2\n",
      "\u001b[32m3         \u001b[31m4\n",
      "\u001b[32m5         \u001b[32m6\n",
      "\u001b[32m7         \u001b[32m8\n",
      "\u001b[32m9         \u001b[32m10\n",
      "\u001b[32m11        \u001b[32m12\n",
      "\u001b[32m13        \u001b[32m14\n",
      "\u001b[32m15        \u001b[32m16\n",
      "\u001b[32m17        \u001b[32m18\n",
      "\u001b[32m19        \u001b[32m20\n",
      "\u001b[32m21        \u001b[32m22\n",
      "\u001b[32m23        \u001b[32m24\n",
      "\u001b[32m25        \u001b[32m26\n",
      "\u001b[32m27        \u001b[32m28\n",
      "\u001b[32m29        \u001b[32m30\n"
     ]
    }
   ],
   "source": [
    "booked(4,as1)"
   ]
  },
  {
   "cell_type": "code",
   "execution_count": 30,
   "metadata": {},
   "outputs": [],
   "source": [
    "oldid=set([])"
   ]
  },
  {
   "cell_type": "code",
   "execution_count": 31,
   "metadata": {},
   "outputs": [
    {
     "data": {
      "text/plain": [
       "set"
      ]
     },
     "execution_count": 31,
     "metadata": {},
     "output_type": "execute_result"
    }
   ],
   "source": [
    "type(oldid)"
   ]
  },
  {
   "cell_type": "code",
   "execution_count": 32,
   "metadata": {},
   "outputs": [
    {
     "ename": "AttributeError",
     "evalue": "'set' object has no attribute 'append'",
     "output_type": "error",
     "traceback": [
      "\u001b[1;31m---------------------------------------------------------------------------\u001b[0m",
      "\u001b[1;31mAttributeError\u001b[0m                            Traceback (most recent call last)",
      "\u001b[1;32m~\\AppData\\Local\\Temp\\ipykernel_8164\\1480598897.py\u001b[0m in \u001b[0;36m<module>\u001b[1;34m\u001b[0m\n\u001b[1;32m----> 1\u001b[1;33m \u001b[0moldid\u001b[0m\u001b[1;33m.\u001b[0m\u001b[0mappend\u001b[0m\u001b[1;33m(\u001b[0m\u001b[1;36m1\u001b[0m\u001b[1;33m)\u001b[0m\u001b[1;33m\u001b[0m\u001b[1;33m\u001b[0m\u001b[0m\n\u001b[0m",
      "\u001b[1;31mAttributeError\u001b[0m: 'set' object has no attribute 'append'"
     ]
    }
   ],
   "source": [
    "oldid.append(1)"
   ]
  },
  {
   "cell_type": "code",
   "execution_count": null,
   "metadata": {},
   "outputs": [],
   "source": []
  }
 ],
 "metadata": {
  "kernelspec": {
   "display_name": "base",
   "language": "python",
   "name": "python3"
  },
  "language_info": {
   "codemirror_mode": {
    "name": "ipython",
    "version": 3
   },
   "file_extension": ".py",
   "mimetype": "text/x-python",
   "name": "python",
   "nbconvert_exporter": "python",
   "pygments_lexer": "ipython3",
   "version": "3.9.13"
  },
  "orig_nbformat": 4
 },
 "nbformat": 4,
 "nbformat_minor": 2
}
