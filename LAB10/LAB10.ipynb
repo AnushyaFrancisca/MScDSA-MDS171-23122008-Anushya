{
 "cells": [
  {
   "cell_type": "markdown",
   "metadata": {},
   "source": [
    "23122008\n",
    "\n",
    "9/10/2023\n",
    "\n",
    "LAB10"
   ]
  },
  {
   "cell_type": "markdown",
   "metadata": {},
   "source": [
    "Write a python program that will read a csv file and print the mean, median, mode for a column of user choice"
   ]
  },
  {
   "cell_type": "code",
   "execution_count": 13,
   "metadata": {},
   "outputs": [],
   "source": [
    "from statistics import *\n",
    "columns=[]\n",
    "rows=[]\n",
    "column_details=[]\n",
    "\n",
    "def read_csv(filename):\n",
    "    with open(filename,'r') as file:\n",
    "        rows=file.readlines()\n",
    "\n",
    "def show_csv(filename):\n",
    "    read_csv(filename)\n",
    "    print(rows)\n",
    "\n",
    "def call_column(filename,column_name):\n",
    "    read_csv(filename)\n",
    "    column_details=[]\n",
    "    for i in rows:\n",
    "        column_details.append(i[column_name])\n",
    "\n",
    "\n",
    "def mean_of_column(filename,column_name):\n",
    "    call_column(filename,column_name)\n",
    "    sum,length=0,0\n",
    "    for i in column_details:\n",
    "        sum=sum+int(i)\n",
    "        length=length+1\n",
    "    mean=sum/length\n",
    "    print(\"The mean value of the colum\",column_name,\"is: \",mean)\n",
    "\n",
    "def median_of_column(filename,column_name):\n",
    "    call_column(filename,column_name)\n",
    "    length=0\n",
    "    for i in column_details:\n",
    "        length=length+1\n",
    "    sorted_column=column_details.sorted()\n",
    "    if length%2==0:\n",
    "        median=(int((sorted_column[length/2])+(sorted_column[(length/2)+1])))/2\n",
    "        print(\"The median of the given column is: \",median)\n",
    "    else:\n",
    "         median=(int(sorted_column[(length+1)/2]))\n",
    "         print(\"The median of the given column is: \",median)\n",
    "    \n",
    "def mode_of_column(filename,column_name):\n",
    "    call_column(filename,column_name)\n",
    "    Mode=mode(column_details)\n",
    "    print(\"The mode of the column is: \",Mode)\n",
    "\n",
    "     "
   ]
  },
  {
   "cell_type": "code",
   "execution_count": 14,
   "metadata": {},
   "outputs": [
    {
     "ename": "ZeroDivisionError",
     "evalue": "division by zero",
     "output_type": "error",
     "traceback": [
      "\u001b[1;31m---------------------------------------------------------------------------\u001b[0m",
      "\u001b[1;31mZeroDivisionError\u001b[0m                         Traceback (most recent call last)",
      "\u001b[1;32m~\\AppData\\Local\\Temp\\ipykernel_6140\\3780556922.py\u001b[0m in \u001b[0;36m<module>\u001b[1;34m\u001b[0m\n\u001b[1;32m----> 1\u001b[1;33m \u001b[0mmean_of_column\u001b[0m\u001b[1;33m(\u001b[0m\u001b[1;34m'python.csv'\u001b[0m\u001b[1;33m,\u001b[0m\u001b[1;34m'A'\u001b[0m\u001b[1;33m)\u001b[0m\u001b[1;33m\u001b[0m\u001b[1;33m\u001b[0m\u001b[0m\n\u001b[0m",
      "\u001b[1;32m~\\AppData\\Local\\Temp\\ipykernel_6140\\1750798852.py\u001b[0m in \u001b[0;36mmean_of_column\u001b[1;34m(filename, column_name)\u001b[0m\n\u001b[0;32m     24\u001b[0m         \u001b[0msum\u001b[0m\u001b[1;33m=\u001b[0m\u001b[0msum\u001b[0m\u001b[1;33m+\u001b[0m\u001b[0mint\u001b[0m\u001b[1;33m(\u001b[0m\u001b[0mi\u001b[0m\u001b[1;33m)\u001b[0m\u001b[1;33m\u001b[0m\u001b[1;33m\u001b[0m\u001b[0m\n\u001b[0;32m     25\u001b[0m         \u001b[0mlength\u001b[0m\u001b[1;33m=\u001b[0m\u001b[0mlength\u001b[0m\u001b[1;33m+\u001b[0m\u001b[1;36m1\u001b[0m\u001b[1;33m\u001b[0m\u001b[1;33m\u001b[0m\u001b[0m\n\u001b[1;32m---> 26\u001b[1;33m     \u001b[0mmean\u001b[0m\u001b[1;33m=\u001b[0m\u001b[0msum\u001b[0m\u001b[1;33m/\u001b[0m\u001b[0mlength\u001b[0m\u001b[1;33m\u001b[0m\u001b[1;33m\u001b[0m\u001b[0m\n\u001b[0m\u001b[0;32m     27\u001b[0m     \u001b[0mprint\u001b[0m\u001b[1;33m(\u001b[0m\u001b[1;34m\"The mean value of the colum\"\u001b[0m\u001b[1;33m,\u001b[0m\u001b[0mcolumn_name\u001b[0m\u001b[1;33m,\u001b[0m\u001b[1;34m\"is: \"\u001b[0m\u001b[1;33m,\u001b[0m\u001b[0mmean\u001b[0m\u001b[1;33m)\u001b[0m\u001b[1;33m\u001b[0m\u001b[1;33m\u001b[0m\u001b[0m\n\u001b[0;32m     28\u001b[0m \u001b[1;33m\u001b[0m\u001b[0m\n",
      "\u001b[1;31mZeroDivisionError\u001b[0m: division by zero"
     ]
    }
   ],
   "source": [
    "mean_of_column('python.csv','A')"
   ]
  },
  {
   "cell_type": "code",
   "execution_count": 7,
   "metadata": {},
   "outputs": [],
   "source": [
    "def call_column(column_name):\n",
    "    column_details=[]\n",
    "    for i in rows:\n",
    "        column_details.append(i[column_name])\n",
    "        print(i[column_name])"
   ]
  },
  {
   "cell_type": "code",
   "execution_count": null,
   "metadata": {},
   "outputs": [],
   "source": [
    "call_column"
   ]
  }
 ],
 "metadata": {
  "kernelspec": {
   "display_name": "base",
   "language": "python",
   "name": "python3"
  },
  "language_info": {
   "codemirror_mode": {
    "name": "ipython",
    "version": 3
   },
   "file_extension": ".py",
   "mimetype": "text/x-python",
   "name": "python",
   "nbconvert_exporter": "python",
   "pygments_lexer": "ipython3",
   "version": "3.9.13"
  },
  "orig_nbformat": 4
 },
 "nbformat": 4,
 "nbformat_minor": 2
}
