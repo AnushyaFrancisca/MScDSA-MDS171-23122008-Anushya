{
 "cells": [
  {
   "cell_type": "markdown",
   "metadata": {},
   "source": [
    "create a petstore class where you have the details of pets available and their details. \n",
    "\n",
    "The class will have methods\n",
    "\n",
    "-Store a new pet details\n",
    "\n",
    "-Search for a pet\n",
    "\n",
    "-Sell a pet\n",
    "\n",
    "-List all pets\n",
    "\n",
    "Importing your petstoreclass, create a petstoremain file, where you will implement a menu driven program for Admin who will manage the store and user who will see the pets and buy the pets."
   ]
  },
  {
   "cell_type": "code",
   "execution_count": 20,
   "metadata": {},
   "outputs": [],
   "source": [
    "class petstore:\n",
    "    def __init__(self):\n",
    "        self.petDetails={\n",
    "            'Details': []\n",
    "        }\n",
    "\n",
    "    def storeDetails(self):\n",
    "        category=input(\"Enter the category of the pet\").strip().upper()\n",
    "        name=input(\"Enter the name of the pet\").strip().upper()\n",
    "        age=input(\"Enter the age of the pet\").strip().upper()\n",
    "        gender=input(\"Enter the gender of the pet\").strip().upper()\n",
    "        price=input(\"Enter the price of the pet\").strip().upper()\n",
    "        pet={\n",
    "            'Category': category,\n",
    "            'Name': name,\n",
    "            'Age': age,\n",
    "            'Gender': gender,\n",
    "            'Price': price\n",
    "        }\n",
    "        self.petDetails['Details'].append(pet)\n",
    "        print(self.petDetails)\n",
    "\n",
    "    "
   ]
  },
  {
   "cell_type": "code",
   "execution_count": 21,
   "metadata": {},
   "outputs": [],
   "source": [
    "pd=petstore()"
   ]
  },
  {
   "cell_type": "code",
   "execution_count": 22,
   "metadata": {},
   "outputs": [
    {
     "name": "stdout",
     "output_type": "stream",
     "text": [
      "{'Details': [{'Category': 'SADDD', 'Name': 'AA', 'Age': 'SDS', 'Gender': 'DS', 'Price': 'S'}]}\n"
     ]
    }
   ],
   "source": [
    "pd.storeDetails()"
   ]
  },
  {
   "cell_type": "code",
   "execution_count": null,
   "metadata": {},
   "outputs": [],
   "source": []
  }
 ],
 "metadata": {
  "kernelspec": {
   "display_name": "base",
   "language": "python",
   "name": "python3"
  },
  "language_info": {
   "codemirror_mode": {
    "name": "ipython",
    "version": 3
   },
   "file_extension": ".py",
   "mimetype": "text/x-python",
   "name": "python",
   "nbconvert_exporter": "python",
   "pygments_lexer": "ipython3",
   "version": "3.9.13"
  },
  "orig_nbformat": 4
 },
 "nbformat": 4,
 "nbformat_minor": 2
}
