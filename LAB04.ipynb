{
 "cells": [
  {
   "cell_type": "markdown",
   "metadata": {},
   "source": [
    "A Taste of Success: The Restaurant Management System\n",
    "\n",
    "In the heart of the bustling city of Lavasa was a charming little restaurant named \"Culinary Delights.\" Owned by a passionate chef named Chef Amelia, Culinary Delights was renowned for its mouthwatering dishes, warm ambience, and exceptional customer service.\n",
    "\n",
    "Chef Amelia had always dreamed of running her restaurant since she was a child. Her love for cooking led her to culinary school, where she honed her skills and developed her signature recipes. With hard work and determination, she finally opened Culinary Delights, a cosy place where people could savour her culinary creations.\n",
    "\n",
    "As Culinary Delights gained popularity, it faced a significant challenge – managing orders efficiently. Chef Amelia realised that she needed a robust Restaurant Management System (RMS) to maintain the restaurant's reputation.\n",
    "\n",
    "Chef Amelia would like to hire you as a team lead for the talented software developers Mark, Sarah, and David she already has. Together, you will create an advanced RMS that will revolutionise Culinary Delights.\n",
    "\n",
    "The software Chef Amelia is looking for is straightforward and has to store the orders in a file the restaurant gets from its customers.\n",
    "\n",
    "As a data analyst specialist, gather insights from the orders that Your hotel Culinary Delights received from their customer over time and display it to Chef Amelia as she uses your Software Application.\n",
    "\n",
    "Your submission will include the following:\n",
    "\n",
    "Lab 04.ipynb File with proper documentation and results from your program\n",
    "\n",
    "Updated README.md File\n",
    "\n",
    "Moodle Submission will include the file and repository URL"
   ]
  },
  {
   "cell_type": "code",
   "execution_count": 67,
   "metadata": {},
   "outputs": [],
   "source": [
    "def orders(name,mobile):\n",
    "    proceed=input((\"Welcome to Culinary Delights! Enter 'Y' if you want to place an order and enter 'N' if you want to exit.\"))\n",
    "    print(\"*\"*77)\n",
    "    count1=0 #count1, count2, count3, count4 are variables initialised to store the count of the quantity of dishes ordered of each type\n",
    "    count2=0\n",
    "    count3=0\n",
    "    count4=0\n",
    "    if proceed == 'Y': #if the user inputs 'Y' the program proceeds else exits\n",
    "        details=open(\"Details.txt\",\"a+\") #a text file is created to store the customer details, order details and feedback. a+ is used to append text and does not replace the already existing text.\n",
    "        details.write(\"\\nName: \"+ name) #information to be written in the text file\n",
    "        details.write(\"\\nContact: \"+ mobile)\n",
    "        orders=input(\"To see the menu enter 'K' else enter 'L':\") #when the user enters 'K' the menu is displayed else thr program terminates\n",
    "        if orders == 'K': #displays the menu\n",
    "            print(\"Today's Special:\\n\")\n",
    "            print(\"1. Chicken Biriyani - Rs.150\\n\")\n",
    "            print(\"2. Fish curry and Rice - Rs.130\\n\")\n",
    "            print(\"3. Egg Curry and Rice - Rs. 80\\n\")\n",
    "            print(\"4. Chicken Pasta - Rs.140\\n\")\n",
    "            print(\"*\"*77,\"\\n\")\n",
    "            n=int(input(\"Enter the number of dishes you want to order: \"))\n",
    "            for i in range(n):\n",
    "                ordernumber=input(\"Enter the serial no. of the dish you wish to order: \")\n",
    "                if ordernumber == '1':\n",
    "                    count1= count1 + 1\n",
    "                elif ordernumber == '2':\n",
    "                    count2 = count2 + 1\n",
    "                elif ordernumber == '3':\n",
    "                    count3 = count3 + 1\n",
    "                elif ordernumber == '4':\n",
    "                    count4 = count4 + 1\n",
    "                else:\n",
    "                    print(\"Order no. does not exist. Kindly recheck.\") #if the serial number entered is wrong a message informing the same is printed.\n",
    "            print(\"The dishes you have ordered are as follows: \\n\")\n",
    "            print(\"Quantity of Chicken Biriyani ordered: \",count1, \"\\n\") \n",
    "            print(\"Quantity of Fish Curry and Rice ordered: \",count2, \"\\n\")\n",
    "            print(\"Quantity of Egg Curry and Rice ordered: \",count3, \"\\n\")\n",
    "            print(\"Quantity of Chicken Pasta ordered: \",count4, \"\\n\")\n",
    "            details.write(\"\\n*****************************************************\")\n",
    "            feedback=input(\"Please type in your feedback here: \") #feedback taken\n",
    "            print(\"*\"*77,\"\\n\")\n",
    "            print(\"Thank you for Ordering. We hope you had a great experience.\")\n",
    "            details.write(\"\\n The dishes ordered are as follows: \\n\")\n",
    "            details.write(\"Quantity of Chicken Biriyani ordered: \"+str(count1)+\"\\n\")\n",
    "            details.write(\"Quantity of Fish Curry and Rice ordered: \"+str(count2)+\"\\n\")\n",
    "            details.write(\"Quantity of Egg Curry and Rice ordered: \"+str(count3)+\"\\n\")\n",
    "            details.write(\"Quantity of Chicken Pasta ordered: \"+str(count4)+\"\\n\")\n",
    "            details.write(\"\\n*****************************************************\")\n",
    "            details.write(\"\\nFeedback given:\"+str(feedback))\n",
    "            details.write(\"\\n\\t-------------------------END-------------------------\")\n",
    "            details.close()\n",
    "        else:\n",
    "            print(\"Thank you for Visiting. We hope you have a great day.\")\n",
    "            print(\"\\n\\t-------------------------END-------------------------\")\n",
    "    elif proceed == 'N': #terminates if entered 'N'\n",
    "        print(\"You have chose to exit. Thank you for visiting. We hope you have a great day.\")\n",
    "        print(\"\\n\\t-------------------------END-------------------------\")\n",
    "    \n",
    "    "
   ]
  },
  {
   "cell_type": "code",
   "execution_count": 52,
   "metadata": {},
   "outputs": [
    {
     "name": "stdout",
     "output_type": "stream",
     "text": [
      "*****************************************************************************\n",
      "You have chose to exit. Thank you for visiting. We hope you have a great day.\n",
      "\t-------------------------END-------------------------\n"
     ]
    }
   ],
   "source": [
    "orders('Anushya Francisca', '8105682146') #output for when the user enters 'N'."
   ]
  },
  {
   "cell_type": "code",
   "execution_count": 53,
   "metadata": {},
   "outputs": [
    {
     "name": "stdout",
     "output_type": "stream",
     "text": [
      "*****************************************************************************\n",
      "Thank you for Visiting. We hope you have a great day.\n",
      "\t-------------------------END-------------------------\n"
     ]
    }
   ],
   "source": [
    "orders('Anushya Francisca', '8105682146') #output for when you do not wish to see the menu."
   ]
  },
  {
   "cell_type": "code",
   "execution_count": 68,
   "metadata": {},
   "outputs": [
    {
     "name": "stdout",
     "output_type": "stream",
     "text": [
      "*****************************************************************************\n",
      "Today's Special:\n",
      "\n",
      "1. Chicken Biriyani - Rs.150\n",
      "\n",
      "2. Fish curry and Rice - Rs.130\n",
      "\n",
      "3. Egg Curry and Rice - Rs. 80\n",
      "\n",
      "4. Chicken Pasta - Rs.140\n",
      "\n",
      "***************************************************************************** \n",
      "\n",
      "The dishes you have ordered are as follows: \n",
      "\n",
      "Quantity of Chicken Biriyani ordered:  1 \n",
      "\n",
      "Quantity of Fish Curry and Rice ordered:  2 \n",
      "\n",
      "Quantity of Egg Curry and Rice ordered:  1 \n",
      "\n",
      "Quantity of Chicken Pasta ordered:  1 \n",
      "\n",
      "***************************************************************************** \n",
      "\n",
      "Thank you for Ordering. We hope you had a great experience.\n"
     ]
    }
   ],
   "source": [
    "orders('Anushya Francisca', '8105682146') #output when executed"
   ]
  },
  {
   "cell_type": "code",
   "execution_count": null,
   "metadata": {},
   "outputs": [],
   "source": []
  }
 ],
 "metadata": {
  "kernelspec": {
   "display_name": "base",
   "language": "python",
   "name": "python3"
  },
  "language_info": {
   "codemirror_mode": {
    "name": "ipython",
    "version": 3
   },
   "file_extension": ".py",
   "mimetype": "text/x-python",
   "name": "python",
   "nbconvert_exporter": "python",
   "pygments_lexer": "ipython3",
   "version": "3.9.13"
  },
  "orig_nbformat": 4
 },
 "nbformat": 4,
 "nbformat_minor": 2
}
