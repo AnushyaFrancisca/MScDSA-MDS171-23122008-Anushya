{
 "cells": [
  {
   "cell_type": "code",
   "execution_count": 1,
   "metadata": {},
   "outputs": [],
   "source": [
    "class Student:\n",
    "    def _init_(self, name, roll_number):\n",
    "        self.name = name\n",
    "        self.roll_number = roll_number\n",
    "        self.marks = {}\n",
    "\n",
    "    def add_marks(self, subject, score):\n",
    "        self.marks[subject] = score\n",
    "\n",
    "    def get_average_marks(self):\n",
    "        total_marks = sum(self.marks.values())\n",
    "        subjects_count = len(self.marks)\n",
    "        if subjects_count == 0:\n",
    "            return 0\n",
    "        return total_marks / subjects_count\n",
    "\n",
    "    def display_details(self):\n",
    "        print(f\"Student Name: {self.name}\")\n",
    "        print(f\"Roll Number: {self.roll_number}\")\n",
    "        print(\"Marks:\")\n",
    "        for subject, score in self.marks.items():\n",
    "            print(f\"{subject}: {score}\")\n",
    "        print(f\"Average Marks: {self.get_average_marks()}\")\n",
    "\n",
    "\n"
   ]
  },
  {
   "cell_type": "code",
   "execution_count": 3,
   "metadata": {},
   "outputs": [
    {
     "name": "stdout",
     "output_type": "stream",
     "text": [
      "The options available are:\n",
      "1. Add Student details\n",
      "2. Add Marks\n",
      "3. Display Student Details\n",
      "4. Exit\n",
      "Student details added successfully.\n",
      "The options available are:\n",
      "1. Add Student details\n",
      "2. Add Marks\n",
      "3. Display Student Details\n",
      "4. Exit\n",
      "Invalid choice. Please try again.\n",
      "The options available are:\n",
      "1. Add Student details\n",
      "2. Add Marks\n",
      "3. Display Student Details\n",
      "4. Exit\n",
      "Invalid choice. Please try again.\n",
      "The options available are:\n",
      "1. Add Student details\n",
      "2. Add Marks\n",
      "3. Display Student Details\n",
      "4. Exit\n",
      "You have chosen to exit.\n"
     ]
    }
   ],
   "source": [
    "students = {}\n",
    "\n",
    "while True:\n",
    "        print(\"The options available are:\")\n",
    "        print(\"1. Add Student details\")\n",
    "        print(\"2. Add Marks\")\n",
    "        print(\"3. Display Student Details\")\n",
    "        print(\"4. Exit\")\n",
    "        choice = input(\"Enter your choice: \")\n",
    "\n",
    "        if choice == \"1\":\n",
    "            name = input(\"Enter student name: \")\n",
    "            reg_no = input(\"Enter registration number: \")\n",
    "            student = Student()\n",
    "            students[reg_no] = student\n",
    "            print(\"Student details added successfully.\")\n",
    "\n",
    "        elif choice == \"2\":\n",
    "            reg_no = input(\"Enter student's registration number: \")\n",
    "            if reg_no in students:\n",
    "                subject = input(\"Enter subject: \")\n",
    "                score = int(input(\"Enter marks: \"))\n",
    "                students[reg_no].add_marks(subject, score)\n",
    "                print(\"Marks added successfully.\")\n",
    "            else:\n",
    "                print(\"Student details not found.\")\n",
    "\n",
    "        elif choice == \"3\":\n",
    "            reg_no = input(\"Enter student's roll number: \")\n",
    "            if reg_no in students:\n",
    "                students[reg_no].display_details()\n",
    "            else:\n",
    "                print(\"Student details not found.\")\n",
    "\n",
    "        elif choice == \"4\":\n",
    "            print(\"You have chosen to exit.\")\n",
    "            break\n",
    "\n",
    "        else:\n",
    "            print(\"Invalid choice. Please try again.\")\n",
    "            break"
   ]
  },
  {
   "cell_type": "code",
   "execution_count": null,
   "metadata": {},
   "outputs": [],
   "source": []
  }
 ],
 "metadata": {
  "kernelspec": {
   "display_name": "base",
   "language": "python",
   "name": "python3"
  },
  "language_info": {
   "codemirror_mode": {
    "name": "ipython",
    "version": 3
   },
   "file_extension": ".py",
   "mimetype": "text/x-python",
   "name": "python",
   "nbconvert_exporter": "python",
   "pygments_lexer": "ipython3",
   "version": "3.9.13"
  }
 },
 "nbformat": 4,
 "nbformat_minor": 2
}
