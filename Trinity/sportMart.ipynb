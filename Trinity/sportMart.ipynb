{
 "cells": [
  {
   "cell_type": "markdown",
   "metadata": {},
   "source": [
    "# 11/10/23"
   ]
  },
  {
   "cell_type": "markdown",
   "metadata": {},
   "source": [
    "Write a sportMart class, where you will have \n",
    "\n",
    "--> inventory / shelf of items\n",
    "\n",
    "--> Orders of customers\n",
    "\n",
    "Create a csv file which will store your inventory details and order details \n",
    "\n",
    "with the help of file handling techniques in python, read and create an object for trinity store and populate the inventory items and orders into the trinity store.\n",
    "\n",
    "to make sure that you have added all the items in your file, use a display method to show your inventory and order history."
   ]
  },
  {
   "cell_type": "code",
   "execution_count": null,
   "metadata": {},
   "outputs": [],
   "source": []
  }
 ],
 "metadata": {
  "language_info": {
   "name": "python"
  },
  "orig_nbformat": 4
 },
 "nbformat": 4,
 "nbformat_minor": 2
}
