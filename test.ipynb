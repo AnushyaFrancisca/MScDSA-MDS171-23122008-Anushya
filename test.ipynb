{
 "cells": [
  {
   "cell_type": "markdown",
   "metadata": {},
   "source": [
    "Write a Python program that uses a while loop to print the numbers from 1 to 10.\n"
   ]
  },
  {
   "cell_type": "code",
   "execution_count": 7,
   "metadata": {},
   "outputs": [
    {
     "name": "stdout",
     "output_type": "stream",
     "text": [
      "1\n",
      "2\n",
      "3\n",
      "4\n",
      "5\n",
      "6\n",
      "7\n",
      "8\n",
      "9\n",
      "10\n"
     ]
    }
   ],
   "source": [
    "x=0\n",
    "while x<10:\n",
    "    x=x+1\n",
    "    print(x)\n"
   ]
  },
  {
   "cell_type": "markdown",
   "metadata": {},
   "source": [
    "Write a Python program that uses a for loop to calculate the sum of all numbers from 1 to 100"
   ]
  },
  {
   "cell_type": "code",
   "execution_count": 8,
   "metadata": {},
   "outputs": [
    {
     "name": "stdout",
     "output_type": "stream",
     "text": [
      "Sum of all numbers until 100:  4950\n"
     ]
    }
   ],
   "source": [
    "sum=0\n",
    "for i in range(100):\n",
    "    sum=sum+i\n",
    "print(\"Sum of all numbers until 100: \",sum)"
   ]
  },
  {
   "cell_type": "markdown",
   "metadata": {},
   "source": [
    "Create a dictionary called student_grades that stores the grades of three students (Alice, Bob, and Carol) for a test. Use their names as keys and assign random grades (e.g., out of 100) as values.\n"
   ]
  },
  {
   "cell_type": "code",
   "execution_count": 13,
   "metadata": {},
   "outputs": [],
   "source": [
    "import random\n",
    "a=random.randint(1,100)\n",
    "b=random.randint(1,100)\n",
    "c=random.randint(1,100)\n",
    "student_grades={'Alice':a,'Bob':b,'Carol':c}"
   ]
  },
  {
   "cell_type": "code",
   "execution_count": 14,
   "metadata": {},
   "outputs": [
    {
     "name": "stdout",
     "output_type": "stream",
     "text": [
      "{'Alice': 12, 'Bob': 98, 'Carol': 52}\n"
     ]
    }
   ],
   "source": [
    "print(student_grades)"
   ]
  },
  {
   "cell_type": "markdown",
   "metadata": {},
   "source": [
    "Write a Python program that takes a list of numbers as input and returns a new list containing only the even numbers from the original list."
   ]
  },
  {
   "cell_type": "code",
   "execution_count": 17,
   "metadata": {},
   "outputs": [
    {
     "name": "stdout",
     "output_type": "stream",
     "text": [
      "The list is:  ['2', '3', '4', '56', '6']\n",
      "The new list containing only the even digits is:  ['2', '4', '56', '6']\n"
     ]
    }
   ],
   "source": [
    "list1=[]\n",
    "n=int(input(\"Enter the total number of digits you want to store in a list.\"))\n",
    "for i in range(n):\n",
    "    x=input(\"Enter the number: \")\n",
    "    list1.append(x)\n",
    "print(\"The list is: \",list1)\n",
    "new_list=[]\n",
    "for i in list1:\n",
    "    if int(i)%2==0:\n",
    "        new_list.append(i)\n",
    "print(\"The new list containing only the even digits is: \",new_list)\n",
    "\n"
   ]
  },
  {
   "cell_type": "code",
   "execution_count": null,
   "metadata": {},
   "outputs": [],
   "source": []
  },
  {
   "cell_type": "markdown",
   "metadata": {},
   "source": [
    "# 11/10/2023"
   ]
  },
  {
   "cell_type": "markdown",
   "metadata": {},
   "source": [
    "Write a sportMart class, where you will have \n",
    "\n",
    "--> inventory / shelf of items\n",
    "\n",
    "--> Orders of customers\n",
    "\n",
    "Create a csv file which will store your inventory details and order details \n",
    "\n",
    "with the help of file handling techniques in python, read and create an object for trinity store and populate the inventory items and orders into the trinity store.\n",
    "\n",
    "to make sure that you have added all the items in your file, use a display method to show your inventory and order history."
   ]
  },
  {
   "cell_type": "code",
   "execution_count": null,
   "metadata": {},
   "outputs": [],
   "source": [
    "class sportMart():\n",
    "\n",
    "    def __init__(self):\n",
    "        self.inventory={}\n",
    "        self.customerDetails={\n",
    "            'Details': []\n",
    "        }\n",
    "        \n",
    "    \n"
   ]
  },
  {
   "cell_type": "code",
   "execution_count": 2,
   "metadata": {},
   "outputs": [
    {
     "name": "stdout",
     "output_type": "stream",
     "text": [
      "9223372036854775807\n"
     ]
    }
   ],
   "source": [
    "import sys\n",
    "max_int=sys.maxsize\n",
    "print(max_int)"
   ]
  },
  {
   "cell_type": "code",
   "execution_count": null,
   "metadata": {},
   "outputs": [],
   "source": []
  }
 ],
 "metadata": {
  "kernelspec": {
   "display_name": "base",
   "language": "python",
   "name": "python3"
  },
  "language_info": {
   "codemirror_mode": {
    "name": "ipython",
    "version": 3
   },
   "file_extension": ".py",
   "mimetype": "text/x-python",
   "name": "python",
   "nbconvert_exporter": "python",
   "pygments_lexer": "ipython3",
   "version": "3.9.13"
  },
  "orig_nbformat": 4
 },
 "nbformat": 4,
 "nbformat_minor": 2
}
