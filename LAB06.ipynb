{
 "cells": [
  {
   "cell_type": "markdown",
   "metadata": {},
   "source": [
    "11/9/23\n",
    "\n",
    "LAB06\n",
    "\n",
    "Vowel Counter!\n",
    "\n",
    "Write a program for collecting a string from the user and counting the number of vowels.\n",
    "\n",
    "Print the total count of vowels\n",
    "\n",
    "Print each vowel and its count\n",
    "\n",
    "Calculate the percentage of vowels in the given string\n",
    "\n",
    "Make use of functions and format your output accordingly\n",
    "\n",
    "Note:\n",
    "File Name Lab 06.ipynb\n",
    "Submit the code file and the GitHub URL"
   ]
  },
  {
   "cell_type": "markdown",
   "metadata": {},
   "source": [
    "TEST CASE 1:"
   ]
  },
  {
   "cell_type": "code",
   "execution_count": 82,
   "metadata": {},
   "outputs": [
    {
     "name": "stdout",
     "output_type": "stream",
     "text": [
      "The given word is: anushya\n",
      "The total number of vowels in anushya is 3 and the vowels are {'a', 'u'}\n",
      "The letter a appears 2 number of times\n",
      "The letter u appears 1 number of times\n",
      "The percentage of vowels present in the word anushya is: 42 %\n"
     ]
    }
   ],
   "source": [
    "name=list(input(\"Enter any word of your choice: \").lower()) #takes the input as a string and the given word is stored individually, letter by letter, using list\n",
    "#.lower() converts the given word to lowercase\n",
    "print(\"The given word is:\", \"\".join(name))\n",
    "vowels=['a','e','i','o','u']  #a list containing all the vowels is created\n",
    "present=[] #an empty list to store the vowels in the given word is created\n",
    "count=0\n",
    "for i in name: \n",
    "    for j in vowels: #using for loop we compare if the letter in the word exists in the list containing the vowels\n",
    "        if i==j: \n",
    "            count+=1 #the count is increased by one each time it encounters a vowel\n",
    "            present.append(j) #the vowel present in the word is appended to the empty list created previously\n",
    "        else:\n",
    "            pass #it just passes, has no effect\n",
    "total=set(present)\n",
    "print(\"The total number of vowels in\",\"\".join(name) ,\"is\",count ,\"and the vowels are\",total) #prints the total count of all vowels(including repitition) and the vowels present in the given word\n",
    "\n",
    "#used to count the number of times a particular vowel appears in the given word\n",
    "def count():\n",
    "    for val in vowels:\n",
    "        for letter in present:\n",
    "            number=present.count(val) #counts the number of times a value appears in a string\n",
    "        if val not in present:\n",
    "            continue \n",
    "        else:\n",
    "            print(\"The letter\", val, \"appears\", number, \"number of times\")\n",
    "\n",
    "count()\n",
    "\n",
    "#function to calculate the percentage\n",
    "def percentage(p,n):\n",
    "    percentage=int((len(p)/len(n))*100) #calculates the percentage of vowels in a given word\n",
    "    print(\"The percentage of vowels present in the word\", \"\".join(name), \"is:\", percentage,\"%\")\n",
    "\n",
    "percentage(present,name)"
   ]
  },
  {
   "cell_type": "markdown",
   "metadata": {},
   "source": [
    "TEST CASE 2:"
   ]
  },
  {
   "cell_type": "code",
   "execution_count": 83,
   "metadata": {},
   "outputs": [
    {
     "name": "stdout",
     "output_type": "stream",
     "text": [
      "The given word is: america\n",
      "The total number of vowels in america is 4 and the vowels are {'a', 'i', 'e'}\n",
      "The letter a appears 2 number of times\n",
      "The letter e appears 1 number of times\n",
      "The letter i appears 1 number of times\n",
      "The percentage of vowels present in the word america is: 57 %\n"
     ]
    }
   ],
   "source": [
    "name=list(input(\"Enter any word of your choice: \").lower()) #takes the input as a string and the given word is stored individually, letter by letter, using list\n",
    "#.lower() converts the given word to lowercase\n",
    "print(\"The given word is:\", \"\".join(name))\n",
    "vowels=['a','e','i','o','u']  #a list containing all the vowels is created\n",
    "present=[] #an empty list to store the vowels in the given word is created\n",
    "count=0\n",
    "for i in name: \n",
    "    for j in vowels: #using for loop we compare if the letter in the word exists in the list containing the vowels\n",
    "        if i==j: \n",
    "            count+=1 #the count is increased by one each time it encounters a vowel\n",
    "            present.append(j) #the vowel present in the word is appended to the empty list created previously\n",
    "        else:\n",
    "            pass #it just passes, has no effect\n",
    "total=set(present)\n",
    "print(\"The total number of vowels in\",\"\".join(name) ,\"is\",count ,\"and the vowels are\",total) #prints the total count of all vowels(including repitition) and the vowels present in the given word\n",
    "\n",
    "#used to count the number of times a particular vowel appears in the given word\n",
    "def count():\n",
    "    for val in vowels:\n",
    "        for letter in present:\n",
    "            number=present.count(val) #counts the number of times a value appears in a string\n",
    "        if val not in present:\n",
    "            continue \n",
    "        else:\n",
    "            print(\"The letter\", val, \"appears\", number, \"number of times\")\n",
    "\n",
    "count()\n",
    "\n",
    "#function to calculate the percentage\n",
    "def percentage(p,n):\n",
    "    percentage=int((len(p)/len(n))*100) #calculates the percentage of vowels in a given word\n",
    "    print(\"The percentage of vowels present in the word\", \"\".join(name), \"is:\", percentage,\"%\")\n",
    "\n",
    "percentage(present,name)"
   ]
  },
  {
   "cell_type": "markdown",
   "metadata": {},
   "source": [
    "TEST CASE 3: for a word with no vowels"
   ]
  },
  {
   "cell_type": "code",
   "execution_count": 84,
   "metadata": {},
   "outputs": [
    {
     "name": "stdout",
     "output_type": "stream",
     "text": [
      "The given word is: crypt\n",
      "The total number of vowels in crypt is 0 and the vowels are set()\n",
      "The percentage of vowels present in the word crypt is: 0 %\n"
     ]
    }
   ],
   "source": [
    "name=list(input(\"Enter any word of your choice: \").lower()) #takes the input as a string and the given word is stored individually, letter by letter, using list\n",
    "#.lower() converts the given word to lowercase\n",
    "print(\"The given word is:\", \"\".join(name))\n",
    "vowels=['a','e','i','o','u']  #a list containing all the vowels is created\n",
    "present=[] #an empty list to store the vowels in the given word is created\n",
    "count=0\n",
    "for i in name: \n",
    "    for j in vowels: #using for loop we compare if the letter in the word exists in the list containing the vowels\n",
    "        if i==j: \n",
    "            count+=1 #the count is increased by one each time it encounters a vowel\n",
    "            present.append(j) #the vowel present in the word is appended to the empty list created previously\n",
    "        else:\n",
    "            pass #it just passes, has no effect\n",
    "total=set(present)\n",
    "print(\"The total number of vowels in\",\"\".join(name) ,\"is\",count ,\"and the vowels are\",total) #prints the total count of all vowels(including repitition) and the vowels present in the given word\n",
    "\n",
    "#used to count the number of times a particular vowel appears in the given word\n",
    "def count():\n",
    "    for val in vowels:\n",
    "        for letter in present:\n",
    "            number=present.count(val) #counts the number of times a value appears in a string\n",
    "        if val not in present:\n",
    "            continue \n",
    "        else:\n",
    "            print(\"The letter\", val, \"appears\", number, \"number of times\")\n",
    "\n",
    "count()\n",
    "\n",
    "#function to calculate the percentage\n",
    "def percentage(p,n):\n",
    "    percentage=int((len(p)/len(n))*100) #calculates the percentage of vowels in a given word\n",
    "    print(\"The percentage of vowels present in the word\", \"\".join(name), \"is:\", percentage,\"%\")\n",
    "\n",
    "percentage(present,name)"
   ]
  },
  {
   "cell_type": "markdown",
   "metadata": {},
   "source": [
    "TEST CASE 4: only vowels"
   ]
  },
  {
   "cell_type": "code",
   "execution_count": 85,
   "metadata": {},
   "outputs": [
    {
     "name": "stdout",
     "output_type": "stream",
     "text": [
      "The given word is: aeiou\n",
      "The total number of vowels in aeiou is 5 and the vowels are {'u', 'i', 'a', 'e', 'o'}\n",
      "The letter a appears 1 number of times\n",
      "The letter e appears 1 number of times\n",
      "The letter i appears 1 number of times\n",
      "The letter o appears 1 number of times\n",
      "The letter u appears 1 number of times\n",
      "The percentage of vowels present in the word aeiou is: 100 %\n"
     ]
    }
   ],
   "source": [
    "name=list(input(\"Enter any word of your choice: \").lower()) #takes the input as a string and the given word is stored individually, letter by letter, using list\n",
    "#.lower() converts the given word to lowercase\n",
    "print(\"The given word is:\", \"\".join(name))\n",
    "vowels=['a','e','i','o','u']  #a list containing all the vowels is created\n",
    "present=[] #an empty list to store the vowels in the given word is created\n",
    "count=0\n",
    "for i in name: \n",
    "    for j in vowels: #using for loop we compare if the letter in the word exists in the list containing the vowels\n",
    "        if i==j: \n",
    "            count+=1 #the count is increased by one each time it encounters a vowel\n",
    "            present.append(j) #the vowel present in the word is appended to the empty list created previously\n",
    "        else:\n",
    "            pass #it just passes, has no effect\n",
    "total=set(present)\n",
    "print(\"The total number of vowels in\",\"\".join(name) ,\"is\",count ,\"and the vowels are\",total) #prints the total count of all vowels(including repitition) and the vowels present in the given word\n",
    "\n",
    "#used to count the number of times a particular vowel appears in the given word\n",
    "def count():\n",
    "    for val in vowels:\n",
    "        for letter in present:\n",
    "            number=present.count(val) #counts the number of times a value appears in a string\n",
    "        if val not in present:\n",
    "            continue \n",
    "        else:\n",
    "            print(\"The letter\", val, \"appears\", number, \"number of times\")\n",
    "\n",
    "count()\n",
    "\n",
    "#function to calculate the percentage\n",
    "def percentage(p,n):\n",
    "    percentage=int((len(p)/len(n))*100) #calculates the percentage of vowels in a given word\n",
    "    print(\"The percentage of vowels present in the word\", \"\".join(name), \"is:\", percentage,\"%\")\n",
    "\n",
    "percentage(present,name)"
   ]
  },
  {
   "cell_type": "markdown",
   "metadata": {},
   "source": [
    "TEST CASE 5: "
   ]
  },
  {
   "cell_type": "code",
   "execution_count": 86,
   "metadata": {},
   "outputs": [
    {
     "name": "stdout",
     "output_type": "stream",
     "text": [
      "The given word is: anushya francisca\n",
      "The total number of vowels in anushya francisca is 6 and the vowels are {'a', 'u', 'i'}\n",
      "The letter a appears 4 number of times\n",
      "The letter i appears 1 number of times\n",
      "The letter u appears 1 number of times\n",
      "The percentage of vowels present in the word anushya francisca is: 35 %\n"
     ]
    }
   ],
   "source": [
    "name=list(input(\"Enter any word of your choice: \").lower()) #takes the input as a string and the given word is stored individually, letter by letter, using list\n",
    "#.lower() converts the given word to lowercase\n",
    "print(\"The given word is:\", \"\".join(name))\n",
    "vowels=['a','e','i','o','u']  #a list containing all the vowels is created\n",
    "present=[] #an empty list to store the vowels in the given word is created\n",
    "count=0\n",
    "for i in name: \n",
    "    for j in vowels: #using for loop we compare if the letter in the word exists in the list containing the vowels\n",
    "        if i==j: \n",
    "            count+=1 #the count is increased by one each time it encounters a vowel\n",
    "            present.append(j) #the vowel present in the word is appended to the empty list created previously\n",
    "        else:\n",
    "            pass #it just passes, has no effect\n",
    "total=set(present)\n",
    "print(\"The total number of vowels in\",\"\".join(name) ,\"is\",count ,\"and the vowels are\",total) #prints the total count of all vowels(including repitition) and the vowels present in the given word\n",
    "\n",
    "#used to count the number of times a particular vowel appears in the given word\n",
    "def count():\n",
    "    for val in vowels:\n",
    "        for letter in present:\n",
    "            number=present.count(val) #counts the number of times a value appears in a string\n",
    "        if val not in present:\n",
    "            continue \n",
    "        else:\n",
    "            print(\"The letter\", val, \"appears\", number, \"number of times\")\n",
    "\n",
    "count()\n",
    "\n",
    "#function to calculate the percentage\n",
    "def percentage(p,n):\n",
    "    percentage=int((len(p)/len(n))*100) #calculates the percentage of vowels in a given word\n",
    "    print(\"The percentage of vowels present in the word\", \"\".join(name), \"is:\", percentage,\"%\")\n",
    "\n",
    "percentage(present,name)"
   ]
  },
  {
   "cell_type": "code",
   "execution_count": null,
   "metadata": {},
   "outputs": [],
   "source": []
  }
 ],
 "metadata": {
  "kernelspec": {
   "display_name": "base",
   "language": "python",
   "name": "python3"
  },
  "language_info": {
   "codemirror_mode": {
    "name": "ipython",
    "version": 3
   },
   "file_extension": ".py",
   "mimetype": "text/x-python",
   "name": "python",
   "nbconvert_exporter": "python",
   "pygments_lexer": "ipython3",
   "version": "3.9.13"
  },
  "orig_nbformat": 4
 },
 "nbformat": 4,
 "nbformat_minor": 2
}
