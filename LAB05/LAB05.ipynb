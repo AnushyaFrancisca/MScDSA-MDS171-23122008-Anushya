{
 "cells": [
  {
   "cell_type": "markdown",
   "metadata": {},
   "source": [
    "08/09/2023\n",
    "\n",
    "LAB05\n",
    "\n",
    "Mix & Match Calculator\n",
    "\n",
    "Create Lists for [Item, Quantity, Price] with 10 random values of your choice.\n",
    "The item list can be of any category of your choice [Food Items, Grocery Items,...] or anything you choose that can be bought.\n",
    "\n",
    "Prepare a CSV file with combinations of these values with the help of random index & looping statements and other control structures we discussed in class.\n",
    "\n",
    "To get a random index or number to access items from the list, you can use the following:\n",
    "random is a library in Python that can be used to generate random numbers.\n",
    "\n",
    "import random # Importing the external library\n",
    "\n",
    "r1 = random.randint(0, 10) # Generating the random number from the range and store it in r1 variable\n",
    "\n",
    "More details of the Random library usage can be found here.\n",
    "\n",
    "Your CSV file should have a minimum of 100 rows created randomly with the data in the list and the random library.\n",
    "Each row in the CSV file will have (item, Quantity, and UnitPrice).\n",
    "\n",
    "After preparing the CSV with Python code, you need to compute\n",
    "The total cost for each row, display the result from the first 5 rows and the last 10 rows\n",
    "Calculate the total cost for each unique item in the dataset.\n",
    "Item Name | Total Quantity | Total\n",
    "Print the minimum & maximum price for each item sold\n",
    "Note:\n",
    "Create a folder Lab 05.\n",
    "Inside the folder, you will have Lab 05.ipynb and the CSV file will have your name as the filename.\n",
    "Submit the CSV file and IPYNB file in Moodle, and Update the same in GitHub and Submit the link in the text area provided."
   ]
  },
  {
   "cell_type": "code",
   "execution_count": 4,
   "metadata": {},
   "outputs": [
    {
     "name": "stdout",
     "output_type": "stream",
     "text": [
      "The total cost of chicken is 13725\n",
      "The total cost of mutton is 7325\n",
      "The total cost of prawn is 10010\n",
      "The total cost of cheese is 7725\n",
      "The total cost of ramen is 10610\n",
      "The total cost of orange is 10745\n",
      "The total cost of pasta is 13800\n",
      "The total cost of juice is 8590\n",
      "The total cost of apple is 7070\n",
      "The total cost of yogurt is 4940\n"
     ]
    }
   ],
   "source": [
    "import random\n",
    "item=['chicken','mutton','prawn','cheese','ramen','orange','pasta','juice','apple','yogurt'] \n",
    "quantity=['1','2','3','4','5','6','7','8','9','10']\n",
    "price=['10','20','50','100','125','150','200','250','300','350']\n",
    "file=open(\"Anushya.csv\",\"w+\")\n",
    "file.write(\"ITEM\"+\"\\t\"+\"QUANTITY\"+\"\\t\"+\"PRICE\"+\"\\t\"+\"TOTAL\\n\")\n",
    "R1,R2,R3,total=[],[],[],[]\n",
    "\n",
    "def rows(n):\n",
    "    for i in range(n):\n",
    "        r1,r2,r3=random.choice(item),random.choice(quantity),random.choice(price)\n",
    "        R1.append(r1),R2.append(r2),R3.append(r3),total.append(str(int(r2)*int(r3)))\n",
    "        file.write(r1+\"\\t\\t\"+r2+\"\\t\\t\"+r3+\"\\t\\t\"+str(int(r2)*int(r3))+\"\\n\")\n",
    "    file.write(\"-\"*30+\"\\n\")\n",
    "    file.write(\"The total cost for the first five rows is displayed below: \\n\")\n",
    "    for i in range(5):\n",
    "        file.write(\"The total cost for \"+R2[i]+\" \"+R1[i]+\" is: \"+total[i]+\"\\n\")\n",
    "    file.write(\"-\"*30+\"\\n\")\n",
    "    file.write(\"The total cost for the last ten rows is displayed below: \\n\")\n",
    "    for i in range(n-10,n):\n",
    "        file.write(\"The total cost for \"+R2[i]+\" \"+R1[i]+\" is: \"+total[i]+\"\\n\")\n",
    "    return True\n",
    "rows(100)\n",
    "\n",
    "def cost():\n",
    "    file.write(\"-\"*30+\"\\n\")\n",
    "    for i in item:\n",
    "        Total=0\n",
    "        for j in range(len(R1)):\n",
    "            if i==R1[j]:\n",
    "                Total=Total+(int(R2[j])*int(R3[j]))\n",
    "            else:\n",
    "                pass\n",
    "        print(\"The total cost of\", i, \"is\", Total)\n",
    "        file.write(\"The total cost of \"+i+\" is \"+str(Total)+\"\\n\")\n",
    "cost()\n",
    "\n",
    "\n",
    "\n",
    "\n",
    "file.close()"
   ]
  },
  {
   "cell_type": "code",
   "execution_count": 2,
   "metadata": {},
   "outputs": [],
   "source": []
  },
  {
   "cell_type": "code",
   "execution_count": null,
   "metadata": {},
   "outputs": [],
   "source": []
  }
 ],
 "metadata": {
  "kernelspec": {
   "display_name": "base",
   "language": "python",
   "name": "python3"
  },
  "language_info": {
   "codemirror_mode": {
    "name": "ipython",
    "version": 3
   },
   "file_extension": ".py",
   "mimetype": "text/x-python",
   "name": "python",
   "nbconvert_exporter": "python",
   "pygments_lexer": "ipython3",
   "version": "3.9.13"
  },
  "orig_nbformat": 4
 },
 "nbformat": 4,
 "nbformat_minor": 2
}
