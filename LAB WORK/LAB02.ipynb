{
 "cells": [
  {
   "cell_type": "markdown",
   "metadata": {},
   "source": [
    "28/8/23"
   ]
  },
  {
   "cell_type": "markdown",
   "metadata": {},
   "source": [
    "Lab 02 \n",
    "\n",
    "The Name Collector's Quest\n",
    "\n",
    "In a quaint little village named Harmonyville, there lived a curious individual named Alex. Alex was known for his passion for collecting names. His dream was to create an extensive list of unique names that would reflect the diversity and camaraderie of the village. Alex used to sit in the village junction; as the villagers passed, Alex eagerly approached them and asked for their names. With each encounter, they diligently recorded the names in his notepad.\n",
    "\n",
    "To keep things organized, You were one among the villagers and have decided to create a program to assist them in this endeavour. You asked Alex to begin by defining a list on his laptop instead of his notepad, and you started writing functions to add names.\n",
    "\n",
    "The function that you have defined should do\n",
    "\n",
    "Whenever a new name is encountered, record it.\n",
    "If an existing name comes, the program says the name exists.\n",
    "Alex makes a lot of mistakes; your program also has to do the necessary validations.\n",
    "The function quits when q is entered as a name and prints all the names in the list, and then he has to call the function.\n",
    "As a data analyst of the village, analyse the names in the list.\n",
    "Days turned into weeks and weeks into months. Alex's name collection grew beyond their wildest dreams. The villagers admired their dedication and the beautifully organized list they had created. Alex's program became a legend in Harmonyville, passed down from generation to generation.\n",
    "\n",
    "And so, in the heart of the village, Alex's legacy lived on - a story of names, community, and the power of coding to bring dreams to life.\n",
    "\n",
    "Note:\n",
    "File name ‘Lab 02.ipynb’\n",
    "Update README.md file with the question and link to the file.\n",
    "Note the mistakes Alex will make, find solutions for them, and implement them in the program.\n",
    "Explain the analysis that you are planning to do and the results.\n",
    "Concepts to be used: List, Pre Defined Functions, User Defined Functions"
   ]
  },
  {
   "cell_type": "code",
   "execution_count": 301,
   "metadata": {},
   "outputs": [],
   "source": [
    "name=[]\n",
    "def Names(n):\n",
    "    m=n.upper()\n",
    "    for i in m:\n",
    "            if i.isalpha(): #check if the characters in the string is an alphabet or not. If it is the program continues else the program is yterminated.\n",
    "                continue\n",
    "            else: \n",
    "                print(\"Error. Kindly check the name you have entered again\")\n",
    "                return\n",
    "    if m=='Q': #condition for termination of the program\n",
    "        print(\"Thank you!These are the list of Names\",sorted(name))\n",
    "    elif m in name: #checks if the name entered is present in the list or not\n",
    "        print(m, \"already exists in the list\")\n",
    "    else:\n",
    "        name.append(m) #adds the name to the list if it does not already exist.\n",
    "        print(m, \"added succesfully\")\n",
    "        "
   ]
  },
  {
   "cell_type": "code",
   "execution_count": 302,
   "metadata": {},
   "outputs": [
    {
     "name": "stdout",
     "output_type": "stream",
     "text": [
      "ANUSHYA added succesfully\n"
     ]
    }
   ],
   "source": [
    "Names('Anushya')"
   ]
  },
  {
   "cell_type": "markdown",
   "metadata": {},
   "source": [
    "The program successfully added the name initialised to the list."
   ]
  },
  {
   "cell_type": "code",
   "execution_count": 303,
   "metadata": {},
   "outputs": [
    {
     "name": "stdout",
     "output_type": "stream",
     "text": [
      "BRITTO added succesfully\n"
     ]
    }
   ],
   "source": [
    "Names('BrittO')"
   ]
  },
  {
   "cell_type": "code",
   "execution_count": 304,
   "metadata": {},
   "outputs": [
    {
     "name": "stdout",
     "output_type": "stream",
     "text": [
      "CHIRAG added succesfully\n"
     ]
    }
   ],
   "source": [
    "Names('Chirag')"
   ]
  },
  {
   "cell_type": "code",
   "execution_count": 305,
   "metadata": {},
   "outputs": [
    {
     "name": "stdout",
     "output_type": "stream",
     "text": [
      "ANSEL added succesfully\n"
     ]
    }
   ],
   "source": [
    "Names('Ansel')"
   ]
  },
  {
   "cell_type": "code",
   "execution_count": 306,
   "metadata": {},
   "outputs": [
    {
     "name": "stdout",
     "output_type": "stream",
     "text": [
      "LERAN added succesfully\n"
     ]
    }
   ],
   "source": [
    "Names('Leran')"
   ]
  },
  {
   "cell_type": "code",
   "execution_count": 307,
   "metadata": {},
   "outputs": [
    {
     "name": "stdout",
     "output_type": "stream",
     "text": [
      "ANUSHYA already exists in the list\n"
     ]
    }
   ],
   "source": [
    "Names('Anushya')"
   ]
  },
  {
   "cell_type": "markdown",
   "metadata": {},
   "source": [
    "On repitition of the same name, the program prints a message saying it already exists and does not append the name to the list again."
   ]
  },
  {
   "cell_type": "code",
   "execution_count": 308,
   "metadata": {},
   "outputs": [
    {
     "name": "stdout",
     "output_type": "stream",
     "text": [
      "Thank you!These are the list of Names ['ANSEL', 'ANUSHYA', 'BRITTO', 'CHIRAG', 'LERAN']\n"
     ]
    }
   ],
   "source": [
    "Names('q')"
   ]
  },
  {
   "cell_type": "markdown",
   "metadata": {},
   "source": [
    "When the user enters the letter 'q' the program terminates and prints the list of names collected."
   ]
  },
  {
   "cell_type": "code",
   "execution_count": 309,
   "metadata": {},
   "outputs": [
    {
     "name": "stdout",
     "output_type": "stream",
     "text": [
      "Error. Kindly check the name you have entered again\n"
     ]
    }
   ],
   "source": [
    "Names('anh6s')"
   ]
  },
  {
   "cell_type": "markdown",
   "metadata": {},
   "source": [
    "The program identifies the presence of numeric data, characters, spaces and prints an error."
   ]
  },
  {
   "cell_type": "code",
   "execution_count": 310,
   "metadata": {},
   "outputs": [
    {
     "name": "stdout",
     "output_type": "stream",
     "text": [
      "Error. Kindly check the name you have entered again\n"
     ]
    }
   ],
   "source": [
    "Names('#anusha')"
   ]
  },
  {
   "cell_type": "code",
   "execution_count": 311,
   "metadata": {},
   "outputs": [
    {
     "data": {
      "text/plain": [
       "['ANUSHYA', 'BRITTO', 'CHIRAG', 'ANSEL', 'LERAN']"
      ]
     },
     "execution_count": 311,
     "metadata": {},
     "output_type": "execute_result"
    }
   ],
   "source": [
    "name"
   ]
  },
  {
   "cell_type": "code",
   "execution_count": 312,
   "metadata": {},
   "outputs": [
    {
     "name": "stdout",
     "output_type": "stream",
     "text": [
      "ANUSHYA already exists in the list\n"
     ]
    }
   ],
   "source": [
    "Names('ANushya')"
   ]
  },
  {
   "cell_type": "markdown",
   "metadata": {},
   "source": [
    "The program identifies the name irrespective of lowercase or uppercase and prints the message accordingly."
   ]
  },
  {
   "cell_type": "code",
   "execution_count": null,
   "metadata": {},
   "outputs": [],
   "source": []
  }
 ],
 "metadata": {
  "kernelspec": {
   "display_name": "base",
   "language": "python",
   "name": "python3"
  },
  "language_info": {
   "codemirror_mode": {
    "name": "ipython",
    "version": 3
   },
   "file_extension": ".py",
   "mimetype": "text/x-python",
   "name": "python",
   "nbconvert_exporter": "python",
   "pygments_lexer": "ipython3",
   "version": "3.9.13"
  },
  "orig_nbformat": 4
 },
 "nbformat": 4,
 "nbformat_minor": 2
}
