{
 "cells": [
  {
   "cell_type": "code",
   "execution_count": 6,
   "metadata": {},
   "outputs": [
    {
     "name": "stdout",
     "output_type": "stream",
     "text": [
      "1.Add new Transaction details.\n",
      "2. Calculate the Total Income.\n",
      "3. Exit.\n",
      "1.Add new Transaction details.\n",
      "2. Calculate the Total Income.\n",
      "3. Exit.\n",
      "Total Income= 56800 \n",
      "Total Expense= 31000\n",
      "1.Add new Transaction details.\n",
      "2. Calculate the Total Income.\n",
      "3. Exit.\n",
      "1.Add new Transaction details.\n",
      "2. Calculate the Total Income.\n",
      "3. Exit.\n"
     ]
    }
   ],
   "source": [
    "class expenseTracker():\n",
    "    def __init__(self): \n",
    "        self.transactions = {\n",
    "            \"details\": []\n",
    "        }\n",
    "    \n",
    "    def storeTransaction(self):\n",
    "        file=open(\"ExpenseIncomeTracker.csv\",\"w+\")\n",
    "        file.write(\"Type,Expense Category,Amount,Description,Date\\n\")\n",
    "        for i in self.transactions[\"details\"]:\n",
    "            date=str(i[\"date\"]).strip()\n",
    "            file.write(i[\"type\"]+\",\"+i[\"category\"]+\",\"+i[\"amount\"]+\",\"+i[\"description\"]+\",\"+date+\"\\n\")\n",
    "        file.close()\n",
    "    \n",
    "    def retrieveTransactions(self):\n",
    "        for i in open(\"ExpenseIncomeTracker.csv\",\"r+\").readlines():\n",
    "            line=i.split(\",\")\n",
    "            if line[1]!=\"Expense Category\":\n",
    "                transaction={\"type\":line[0],\"category\":line[1],\"amount\":line[2],\"description\":line[3],\"date\":line[4]}\n",
    "                self.transactions[\"details\"].append(transaction)\n",
    "\n",
    "    def calculateTotal(self):\n",
    "        totalIncome=0\n",
    "        totalExpense=0\n",
    "        for i in self.transactions[\"details\"]:\n",
    "            if i[\"type\"]==\"Income\":\n",
    "                totalIncome+=int(i[\"amount\"])\n",
    "            else:\n",
    "                totalExpense+=int(i[\"amount\"])\n",
    "        return totalIncome,totalExpense\n",
    "    \n",
    "    def addTransaction(self,type,category,amount,description,date):\n",
    "        transaction={\"type\":type,\"category\":category,\"amount\":amount,\"description\":description,\"date\":date}\n",
    "        self.transactions[\"details\"].append(transaction)\n",
    "\n",
    "order=expenseTracker()\n",
    "order.retrieveTransactions()\n",
    "\n",
    "while True:\n",
    "    print(\"1.Add new Transaction details.\")\n",
    "    print(\"2. Calculate the Total Income.\")\n",
    "    print(\"3. Exit.\")\n",
    "    choice=input(\"Enter the Sl.no of your choice: \")\n",
    "    if choice=='1':\n",
    "        type=input(\"Enter the type of transaction (Income/Expense):\")\n",
    "        category=input(\"Enter the category:\")\n",
    "        amount=input(\"Enter the amount:\")\n",
    "        description=input(\"Enter the description of the transaction:\")\n",
    "        date=input(\"Enter the date in MM/DD/YYYY format:\")\n",
    "        order.addTransaction(type,category,amount,description,date)\n",
    "    elif choice=='2':\n",
    "        totalIncome,totalExpense=order.calculateTotal()\n",
    "        print(\"Total Income=\",totalIncome,\"\\nTotal Expense=\",totalExpense)\n",
    "        order.storeTransaction()\n",
    "    elif choice=='3':\n",
    "        order.storeTransaction()\n",
    "        exit()"
   ]
  }
 ],
 "metadata": {
  "kernelspec": {
   "display_name": "base",
   "language": "python",
   "name": "python3"
  },
  "language_info": {
   "codemirror_mode": {
    "name": "ipython",
    "version": 3
   },
   "file_extension": ".py",
   "mimetype": "text/x-python",
   "name": "python",
   "nbconvert_exporter": "python",
   "pygments_lexer": "ipython3",
   "version": "3.9.13"
  },
  "orig_nbformat": 4
 },
 "nbformat": 4,
 "nbformat_minor": 2
}
